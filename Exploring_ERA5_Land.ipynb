{
  "nbformat": 4,
  "nbformat_minor": 0,
  "metadata": {
    "colab": {
      "provenance": [],
      "toc_visible": true
    },
    "kernelspec": {
      "name": "python3",
      "display_name": "Python 3"
    }
  },
  "cells": [
    {
      "cell_type": "markdown",
      "metadata": {
        "id": "ksP0ovH9_dap"
      },
      "source": [
        "# Setup"
      ]
    },
    {
      "cell_type": "code",
      "metadata": {
        "id": "WzCIwsG1kJfp"
      },
      "source": [
        "import ee\n",
        "import palettable\n",
        "import pandas as pd"
      ],
      "execution_count": null,
      "outputs": []
    },
    {
      "cell_type": "markdown",
      "metadata": {
        "id": "1BTY_Zu3pBoz"
      },
      "source": [
        "## Authenticate to Earth Engine Servers"
      ]
    },
    {
      "cell_type": "code",
      "metadata": {
        "colab": {
          "base_uri": "https://localhost:8080/"
        },
        "id": "AlQUrlfLkIq0",
        "outputId": "a38a9a47-b412-4543-f0ad-3b05828f6ae4"
      },
      "source": [
        "ee.Authenticate()\n",
        "ee.Initialize()"
      ],
      "execution_count": null,
      "outputs": [
        {
          "output_type": "stream",
          "text": [
            "To authorize access needed by Earth Engine, open the following URL in a web browser and follow the instructions. If the web browser does not start automatically, please manually browse the URL below.\n",
            "\n",
            "    https://accounts.google.com/o/oauth2/auth?client_id=517222506229-vsmmajv00ul0bs7p89v5m89qs8eb9359.apps.googleusercontent.com&scope=https%3A%2F%2Fwww.googleapis.com%2Fauth%2Fearthengine+https%3A%2F%2Fwww.googleapis.com%2Fauth%2Fdevstorage.full_control&redirect_uri=urn%3Aietf%3Awg%3Aoauth%3A2.0%3Aoob&response_type=code&code_challenge=n6rv6auJLS8w5Sg6bidrOlQpkaBplWwfXDgAp_Lz_kM&code_challenge_method=S256\n",
            "\n",
            "The authorization workflow will generate a code, which you should paste in the box below. \n",
            "Enter verification code: 4/1AY0e-g63ztj8E_cBXeb5brNX3XNqhJcECtfLXoMAyCiQKM2PrjLKMuNiFfQ\n",
            "\n",
            "Successfully saved authorization token.\n"
          ],
          "name": "stdout"
        }
      ]
    },
    {
      "cell_type": "markdown",
      "metadata": {
        "id": "qOiiM0Fi_hAG"
      },
      "source": [
        "# Analysis"
      ]
    },
    {
      "cell_type": "markdown",
      "metadata": {
        "id": "XcENr6OmqkmS"
      },
      "source": [
        "## Examine the ERA5-Land image collection"
      ]
    },
    {
      "cell_type": "markdown",
      "metadata": {
        "id": "YiQM_Pvcpoh-"
      },
      "source": [
        "Reference the image collection for the ERA5-Land hourly dataset"
      ]
    },
    {
      "cell_type": "code",
      "metadata": {
        "id": "NRzJpAdrkGJg"
      },
      "source": [
        "era5land = ee.ImageCollection(\"ECMWF/ERA5_LAND/HOURLY\")"
      ],
      "execution_count": null,
      "outputs": []
    },
    {
      "cell_type": "markdown",
      "metadata": {
        "id": "RISpOnJDpx1b"
      },
      "source": [
        "Count the number of available records."
      ]
    },
    {
      "cell_type": "code",
      "metadata": {
        "colab": {
          "base_uri": "https://localhost:8080/"
        },
        "id": "zwa2UWlukkZE",
        "outputId": "c49cfd1c-5756-4a95-a9f1-0564f37f7d5d"
      },
      "source": [
        "print(\n",
        "  f'The ERA5 Land Hourly dataset has {era5land.size().getInfo()} records.'\n",
        ")"
      ],
      "execution_count": null,
      "outputs": [
        {
          "output_type": "stream",
          "text": [
            "The ERA5 Land Hourly dataset has 349894 records.\n"
          ],
          "name": "stdout"
        }
      ]
    },
    {
      "cell_type": "markdown",
      "metadata": {
        "id": "L9Hzg_oCqFz-"
      },
      "source": [
        "Find the earliest and latest data in the collection."
      ]
    },
    {
      "cell_type": "code",
      "metadata": {
        "colab": {
          "base_uri": "https://localhost:8080/"
        },
        "id": "KrD0kVJdr-El",
        "outputId": "8963c439-32f7-4905-daea-6a7a3e7ccfd3"
      },
      "source": [
        "min_date = ee.Date(\n",
        "    era5land.aggregate_min('system:time_start')\n",
        "  ).format().getInfo()\n",
        "max_date = ee.Date(\n",
        "    era5land.aggregate_max('system:time_end')\n",
        "  ).format().getInfo()\n",
        "print(\n",
        "    f'Timestamps in the ERA5 Land dataset range from {min_date} to {max_date}.'\n",
        ")"
      ],
      "execution_count": null,
      "outputs": [
        {
          "output_type": "stream",
          "text": [
            "Timestamps in the ERA5 Land dataset range from 1981-01-01T02:00:00 to 2020-12-01T00:00:00.\n"
          ],
          "name": "stdout"
        }
      ]
    },
    {
      "cell_type": "markdown",
      "metadata": {
        "id": "-scdh7xsqAI7"
      },
      "source": [
        "## Examine a sample record"
      ]
    },
    {
      "cell_type": "code",
      "metadata": {
        "colab": {
          "base_uri": "https://localhost:8080/"
        },
        "id": "6oEPIQFtk3kS",
        "outputId": "d8b6611b-43a8-4b24-c200-4ea57231187e"
      },
      "source": [
        "# Get a sample record.\n",
        "sample = era5land.filterDate('2020', '2020-01-02').first()\n",
        "sample.getInfo()"
      ],
      "execution_count": null,
      "outputs": [
        {
          "output_type": "execute_result",
          "data": {
            "text/plain": [
              "{'bands': [{'crs': 'EPSG:4326',\n",
              "   'crs_transform': [0.1, 0, -180.05, 0, -0.1, 90.05],\n",
              "   'data_type': {'precision': 'double', 'type': 'PixelType'},\n",
              "   'dimensions': [3601, 1801],\n",
              "   'id': 'dewpoint_temperature_2m'},\n",
              "  {'crs': 'EPSG:4326',\n",
              "   'crs_transform': [0.1, 0, -180.05, 0, -0.1, 90.05],\n",
              "   'data_type': {'precision': 'double', 'type': 'PixelType'},\n",
              "   'dimensions': [3601, 1801],\n",
              "   'id': 'temperature_2m'},\n",
              "  {'crs': 'EPSG:4326',\n",
              "   'crs_transform': [0.1, 0, -180.05, 0, -0.1, 90.05],\n",
              "   'data_type': {'precision': 'double', 'type': 'PixelType'},\n",
              "   'dimensions': [3601, 1801],\n",
              "   'id': 'skin_temperature'},\n",
              "  {'crs': 'EPSG:4326',\n",
              "   'crs_transform': [0.1, 0, -180.05, 0, -0.1, 90.05],\n",
              "   'data_type': {'precision': 'double', 'type': 'PixelType'},\n",
              "   'dimensions': [3601, 1801],\n",
              "   'id': 'soil_temperature_level_1'},\n",
              "  {'crs': 'EPSG:4326',\n",
              "   'crs_transform': [0.1, 0, -180.05, 0, -0.1, 90.05],\n",
              "   'data_type': {'precision': 'double', 'type': 'PixelType'},\n",
              "   'dimensions': [3601, 1801],\n",
              "   'id': 'soil_temperature_level_2'},\n",
              "  {'crs': 'EPSG:4326',\n",
              "   'crs_transform': [0.1, 0, -180.05, 0, -0.1, 90.05],\n",
              "   'data_type': {'precision': 'double', 'type': 'PixelType'},\n",
              "   'dimensions': [3601, 1801],\n",
              "   'id': 'soil_temperature_level_3'},\n",
              "  {'crs': 'EPSG:4326',\n",
              "   'crs_transform': [0.1, 0, -180.05, 0, -0.1, 90.05],\n",
              "   'data_type': {'precision': 'double', 'type': 'PixelType'},\n",
              "   'dimensions': [3601, 1801],\n",
              "   'id': 'soil_temperature_level_4'},\n",
              "  {'crs': 'EPSG:4326',\n",
              "   'crs_transform': [0.1, 0, -180.05, 0, -0.1, 90.05],\n",
              "   'data_type': {'precision': 'double', 'type': 'PixelType'},\n",
              "   'dimensions': [3601, 1801],\n",
              "   'id': 'lake_bottom_temperature'},\n",
              "  {'crs': 'EPSG:4326',\n",
              "   'crs_transform': [0.1, 0, -180.05, 0, -0.1, 90.05],\n",
              "   'data_type': {'precision': 'double', 'type': 'PixelType'},\n",
              "   'dimensions': [3601, 1801],\n",
              "   'id': 'lake_ice_depth'},\n",
              "  {'crs': 'EPSG:4326',\n",
              "   'crs_transform': [0.1, 0, -180.05, 0, -0.1, 90.05],\n",
              "   'data_type': {'precision': 'double', 'type': 'PixelType'},\n",
              "   'dimensions': [3601, 1801],\n",
              "   'id': 'lake_ice_temperature'},\n",
              "  {'crs': 'EPSG:4326',\n",
              "   'crs_transform': [0.1, 0, -180.05, 0, -0.1, 90.05],\n",
              "   'data_type': {'precision': 'double', 'type': 'PixelType'},\n",
              "   'dimensions': [3601, 1801],\n",
              "   'id': 'lake_mix_layer_depth'},\n",
              "  {'crs': 'EPSG:4326',\n",
              "   'crs_transform': [0.1, 0, -180.05, 0, -0.1, 90.05],\n",
              "   'data_type': {'precision': 'double', 'type': 'PixelType'},\n",
              "   'dimensions': [3601, 1801],\n",
              "   'id': 'lake_mix_layer_temperature'},\n",
              "  {'crs': 'EPSG:4326',\n",
              "   'crs_transform': [0.1, 0, -180.05, 0, -0.1, 90.05],\n",
              "   'data_type': {'precision': 'double', 'type': 'PixelType'},\n",
              "   'dimensions': [3601, 1801],\n",
              "   'id': 'lake_shape_factor'},\n",
              "  {'crs': 'EPSG:4326',\n",
              "   'crs_transform': [0.1, 0, -180.05, 0, -0.1, 90.05],\n",
              "   'data_type': {'precision': 'double', 'type': 'PixelType'},\n",
              "   'dimensions': [3601, 1801],\n",
              "   'id': 'lake_total_layer_temperature'},\n",
              "  {'crs': 'EPSG:4326',\n",
              "   'crs_transform': [0.1, 0, -180.05, 0, -0.1, 90.05],\n",
              "   'data_type': {'precision': 'double', 'type': 'PixelType'},\n",
              "   'dimensions': [3601, 1801],\n",
              "   'id': 'snow_albedo'},\n",
              "  {'crs': 'EPSG:4326',\n",
              "   'crs_transform': [0.1, 0, -180.05, 0, -0.1, 90.05],\n",
              "   'data_type': {'precision': 'double', 'type': 'PixelType'},\n",
              "   'dimensions': [3601, 1801],\n",
              "   'id': 'snow_cover'},\n",
              "  {'crs': 'EPSG:4326',\n",
              "   'crs_transform': [0.1, 0, -180.05, 0, -0.1, 90.05],\n",
              "   'data_type': {'precision': 'double', 'type': 'PixelType'},\n",
              "   'dimensions': [3601, 1801],\n",
              "   'id': 'snow_density'},\n",
              "  {'crs': 'EPSG:4326',\n",
              "   'crs_transform': [0.1, 0, -180.05, 0, -0.1, 90.05],\n",
              "   'data_type': {'precision': 'double', 'type': 'PixelType'},\n",
              "   'dimensions': [3601, 1801],\n",
              "   'id': 'snow_depth'},\n",
              "  {'crs': 'EPSG:4326',\n",
              "   'crs_transform': [0.1, 0, -180.05, 0, -0.1, 90.05],\n",
              "   'data_type': {'precision': 'double', 'type': 'PixelType'},\n",
              "   'dimensions': [3601, 1801],\n",
              "   'id': 'snow_depth_water_equivalent'},\n",
              "  {'crs': 'EPSG:4326',\n",
              "   'crs_transform': [0.1, 0, -180.05, 0, -0.1, 90.05],\n",
              "   'data_type': {'precision': 'double', 'type': 'PixelType'},\n",
              "   'dimensions': [3601, 1801],\n",
              "   'id': 'snowfall'},\n",
              "  {'crs': 'EPSG:4326',\n",
              "   'crs_transform': [0.1, 0, -180.05, 0, -0.1, 90.05],\n",
              "   'data_type': {'precision': 'double', 'type': 'PixelType'},\n",
              "   'dimensions': [3601, 1801],\n",
              "   'id': 'snowmelt'},\n",
              "  {'crs': 'EPSG:4326',\n",
              "   'crs_transform': [0.1, 0, -180.05, 0, -0.1, 90.05],\n",
              "   'data_type': {'precision': 'double', 'type': 'PixelType'},\n",
              "   'dimensions': [3601, 1801],\n",
              "   'id': 'temperature_of_snow_layer'},\n",
              "  {'crs': 'EPSG:4326',\n",
              "   'crs_transform': [0.1, 0, -180.05, 0, -0.1, 90.05],\n",
              "   'data_type': {'precision': 'double', 'type': 'PixelType'},\n",
              "   'dimensions': [3601, 1801],\n",
              "   'id': 'skin_reservoir_content'},\n",
              "  {'crs': 'EPSG:4326',\n",
              "   'crs_transform': [0.1, 0, -180.05, 0, -0.1, 90.05],\n",
              "   'data_type': {'precision': 'double', 'type': 'PixelType'},\n",
              "   'dimensions': [3601, 1801],\n",
              "   'id': 'volumetric_soil_water_layer_1'},\n",
              "  {'crs': 'EPSG:4326',\n",
              "   'crs_transform': [0.1, 0, -180.05, 0, -0.1, 90.05],\n",
              "   'data_type': {'precision': 'double', 'type': 'PixelType'},\n",
              "   'dimensions': [3601, 1801],\n",
              "   'id': 'volumetric_soil_water_layer_2'},\n",
              "  {'crs': 'EPSG:4326',\n",
              "   'crs_transform': [0.1, 0, -180.05, 0, -0.1, 90.05],\n",
              "   'data_type': {'precision': 'double', 'type': 'PixelType'},\n",
              "   'dimensions': [3601, 1801],\n",
              "   'id': 'volumetric_soil_water_layer_3'},\n",
              "  {'crs': 'EPSG:4326',\n",
              "   'crs_transform': [0.1, 0, -180.05, 0, -0.1, 90.05],\n",
              "   'data_type': {'precision': 'double', 'type': 'PixelType'},\n",
              "   'dimensions': [3601, 1801],\n",
              "   'id': 'volumetric_soil_water_layer_4'},\n",
              "  {'crs': 'EPSG:4326',\n",
              "   'crs_transform': [0.1, 0, -180.05, 0, -0.1, 90.05],\n",
              "   'data_type': {'precision': 'double', 'type': 'PixelType'},\n",
              "   'dimensions': [3601, 1801],\n",
              "   'id': 'forecast_albedo'},\n",
              "  {'crs': 'EPSG:4326',\n",
              "   'crs_transform': [0.1, 0, -180.05, 0, -0.1, 90.05],\n",
              "   'data_type': {'precision': 'double', 'type': 'PixelType'},\n",
              "   'dimensions': [3601, 1801],\n",
              "   'id': 'surface_latent_heat_flux'},\n",
              "  {'crs': 'EPSG:4326',\n",
              "   'crs_transform': [0.1, 0, -180.05, 0, -0.1, 90.05],\n",
              "   'data_type': {'precision': 'double', 'type': 'PixelType'},\n",
              "   'dimensions': [3601, 1801],\n",
              "   'id': 'surface_net_solar_radiation'},\n",
              "  {'crs': 'EPSG:4326',\n",
              "   'crs_transform': [0.1, 0, -180.05, 0, -0.1, 90.05],\n",
              "   'data_type': {'precision': 'double', 'type': 'PixelType'},\n",
              "   'dimensions': [3601, 1801],\n",
              "   'id': 'surface_net_thermal_radiation'},\n",
              "  {'crs': 'EPSG:4326',\n",
              "   'crs_transform': [0.1, 0, -180.05, 0, -0.1, 90.05],\n",
              "   'data_type': {'precision': 'double', 'type': 'PixelType'},\n",
              "   'dimensions': [3601, 1801],\n",
              "   'id': 'surface_sensible_heat_flux'},\n",
              "  {'crs': 'EPSG:4326',\n",
              "   'crs_transform': [0.1, 0, -180.05, 0, -0.1, 90.05],\n",
              "   'data_type': {'precision': 'double', 'type': 'PixelType'},\n",
              "   'dimensions': [3601, 1801],\n",
              "   'id': 'surface_solar_radiation_downwards'},\n",
              "  {'crs': 'EPSG:4326',\n",
              "   'crs_transform': [0.1, 0, -180.05, 0, -0.1, 90.05],\n",
              "   'data_type': {'precision': 'double', 'type': 'PixelType'},\n",
              "   'dimensions': [3601, 1801],\n",
              "   'id': 'surface_thermal_radiation_downwards'},\n",
              "  {'crs': 'EPSG:4326',\n",
              "   'crs_transform': [0.1, 0, -180.05, 0, -0.1, 90.05],\n",
              "   'data_type': {'precision': 'double', 'type': 'PixelType'},\n",
              "   'dimensions': [3601, 1801],\n",
              "   'id': 'evaporation_from_bare_soil'},\n",
              "  {'crs': 'EPSG:4326',\n",
              "   'crs_transform': [0.1, 0, -180.05, 0, -0.1, 90.05],\n",
              "   'data_type': {'precision': 'double', 'type': 'PixelType'},\n",
              "   'dimensions': [3601, 1801],\n",
              "   'id': 'evaporation_from_open_water_surfaces_excluding_oceans'},\n",
              "  {'crs': 'EPSG:4326',\n",
              "   'crs_transform': [0.1, 0, -180.05, 0, -0.1, 90.05],\n",
              "   'data_type': {'precision': 'double', 'type': 'PixelType'},\n",
              "   'dimensions': [3601, 1801],\n",
              "   'id': 'evaporation_from_the_top_of_canopy'},\n",
              "  {'crs': 'EPSG:4326',\n",
              "   'crs_transform': [0.1, 0, -180.05, 0, -0.1, 90.05],\n",
              "   'data_type': {'precision': 'double', 'type': 'PixelType'},\n",
              "   'dimensions': [3601, 1801],\n",
              "   'id': 'evaporation_from_vegetation_transpiration'},\n",
              "  {'crs': 'EPSG:4326',\n",
              "   'crs_transform': [0.1, 0, -180.05, 0, -0.1, 90.05],\n",
              "   'data_type': {'precision': 'double', 'type': 'PixelType'},\n",
              "   'dimensions': [3601, 1801],\n",
              "   'id': 'potential_evaporation'},\n",
              "  {'crs': 'EPSG:4326',\n",
              "   'crs_transform': [0.1, 0, -180.05, 0, -0.1, 90.05],\n",
              "   'data_type': {'precision': 'double', 'type': 'PixelType'},\n",
              "   'dimensions': [3601, 1801],\n",
              "   'id': 'runoff'},\n",
              "  {'crs': 'EPSG:4326',\n",
              "   'crs_transform': [0.1, 0, -180.05, 0, -0.1, 90.05],\n",
              "   'data_type': {'precision': 'double', 'type': 'PixelType'},\n",
              "   'dimensions': [3601, 1801],\n",
              "   'id': 'snow_evaporation'},\n",
              "  {'crs': 'EPSG:4326',\n",
              "   'crs_transform': [0.1, 0, -180.05, 0, -0.1, 90.05],\n",
              "   'data_type': {'precision': 'double', 'type': 'PixelType'},\n",
              "   'dimensions': [3601, 1801],\n",
              "   'id': 'sub_surface_runoff'},\n",
              "  {'crs': 'EPSG:4326',\n",
              "   'crs_transform': [0.1, 0, -180.05, 0, -0.1, 90.05],\n",
              "   'data_type': {'precision': 'double', 'type': 'PixelType'},\n",
              "   'dimensions': [3601, 1801],\n",
              "   'id': 'surface_runoff'},\n",
              "  {'crs': 'EPSG:4326',\n",
              "   'crs_transform': [0.1, 0, -180.05, 0, -0.1, 90.05],\n",
              "   'data_type': {'precision': 'double', 'type': 'PixelType'},\n",
              "   'dimensions': [3601, 1801],\n",
              "   'id': 'total_evaporation'},\n",
              "  {'crs': 'EPSG:4326',\n",
              "   'crs_transform': [0.1, 0, -180.05, 0, -0.1, 90.05],\n",
              "   'data_type': {'precision': 'double', 'type': 'PixelType'},\n",
              "   'dimensions': [3601, 1801],\n",
              "   'id': 'u_component_of_wind_10m'},\n",
              "  {'crs': 'EPSG:4326',\n",
              "   'crs_transform': [0.1, 0, -180.05, 0, -0.1, 90.05],\n",
              "   'data_type': {'precision': 'double', 'type': 'PixelType'},\n",
              "   'dimensions': [3601, 1801],\n",
              "   'id': 'v_component_of_wind_10m'},\n",
              "  {'crs': 'EPSG:4326',\n",
              "   'crs_transform': [0.1, 0, -180.05, 0, -0.1, 90.05],\n",
              "   'data_type': {'precision': 'double', 'type': 'PixelType'},\n",
              "   'dimensions': [3601, 1801],\n",
              "   'id': 'surface_pressure'},\n",
              "  {'crs': 'EPSG:4326',\n",
              "   'crs_transform': [0.1, 0, -180.05, 0, -0.1, 90.05],\n",
              "   'data_type': {'precision': 'double', 'type': 'PixelType'},\n",
              "   'dimensions': [3601, 1801],\n",
              "   'id': 'total_precipitation'},\n",
              "  {'crs': 'EPSG:4326',\n",
              "   'crs_transform': [0.1, 0, -180.05, 0, -0.1, 90.05],\n",
              "   'data_type': {'precision': 'double', 'type': 'PixelType'},\n",
              "   'dimensions': [3601, 1801],\n",
              "   'id': 'leaf_area_index_high_vegetation'},\n",
              "  {'crs': 'EPSG:4326',\n",
              "   'crs_transform': [0.1, 0, -180.05, 0, -0.1, 90.05],\n",
              "   'data_type': {'precision': 'double', 'type': 'PixelType'},\n",
              "   'dimensions': [3601, 1801],\n",
              "   'id': 'leaf_area_index_low_vegetation'},\n",
              "  {'crs': 'EPSG:4326',\n",
              "   'crs_transform': [0.1, 0, -180.05, 0, -0.1, 90.05],\n",
              "   'data_type': {'precision': 'double', 'type': 'PixelType'},\n",
              "   'dimensions': [3601, 1801],\n",
              "   'id': 'snowfall_hourly'},\n",
              "  {'crs': 'EPSG:4326',\n",
              "   'crs_transform': [0.1, 0, -180.05, 0, -0.1, 90.05],\n",
              "   'data_type': {'precision': 'double', 'type': 'PixelType'},\n",
              "   'dimensions': [3601, 1801],\n",
              "   'id': 'snowmelt_hourly'},\n",
              "  {'crs': 'EPSG:4326',\n",
              "   'crs_transform': [0.1, 0, -180.05, 0, -0.1, 90.05],\n",
              "   'data_type': {'precision': 'double', 'type': 'PixelType'},\n",
              "   'dimensions': [3601, 1801],\n",
              "   'id': 'surface_latent_heat_flux_hourly'},\n",
              "  {'crs': 'EPSG:4326',\n",
              "   'crs_transform': [0.1, 0, -180.05, 0, -0.1, 90.05],\n",
              "   'data_type': {'precision': 'double', 'type': 'PixelType'},\n",
              "   'dimensions': [3601, 1801],\n",
              "   'id': 'surface_net_solar_radiation_hourly'},\n",
              "  {'crs': 'EPSG:4326',\n",
              "   'crs_transform': [0.1, 0, -180.05, 0, -0.1, 90.05],\n",
              "   'data_type': {'precision': 'double', 'type': 'PixelType'},\n",
              "   'dimensions': [3601, 1801],\n",
              "   'id': 'surface_net_thermal_radiation_hourly'},\n",
              "  {'crs': 'EPSG:4326',\n",
              "   'crs_transform': [0.1, 0, -180.05, 0, -0.1, 90.05],\n",
              "   'data_type': {'precision': 'double', 'type': 'PixelType'},\n",
              "   'dimensions': [3601, 1801],\n",
              "   'id': 'surface_sensible_heat_flux_hourly'},\n",
              "  {'crs': 'EPSG:4326',\n",
              "   'crs_transform': [0.1, 0, -180.05, 0, -0.1, 90.05],\n",
              "   'data_type': {'precision': 'double', 'type': 'PixelType'},\n",
              "   'dimensions': [3601, 1801],\n",
              "   'id': 'surface_solar_radiation_downwards_hourly'},\n",
              "  {'crs': 'EPSG:4326',\n",
              "   'crs_transform': [0.1, 0, -180.05, 0, -0.1, 90.05],\n",
              "   'data_type': {'precision': 'double', 'type': 'PixelType'},\n",
              "   'dimensions': [3601, 1801],\n",
              "   'id': 'surface_thermal_radiation_downwards_hourly'},\n",
              "  {'crs': 'EPSG:4326',\n",
              "   'crs_transform': [0.1, 0, -180.05, 0, -0.1, 90.05],\n",
              "   'data_type': {'precision': 'double', 'type': 'PixelType'},\n",
              "   'dimensions': [3601, 1801],\n",
              "   'id': 'evaporation_from_bare_soil_hourly'},\n",
              "  {'crs': 'EPSG:4326',\n",
              "   'crs_transform': [0.1, 0, -180.05, 0, -0.1, 90.05],\n",
              "   'data_type': {'precision': 'double', 'type': 'PixelType'},\n",
              "   'dimensions': [3601, 1801],\n",
              "   'id': 'evaporation_from_open_water_surfaces_excluding_oceans_hourly'},\n",
              "  {'crs': 'EPSG:4326',\n",
              "   'crs_transform': [0.1, 0, -180.05, 0, -0.1, 90.05],\n",
              "   'data_type': {'precision': 'double', 'type': 'PixelType'},\n",
              "   'dimensions': [3601, 1801],\n",
              "   'id': 'evaporation_from_the_top_of_canopy_hourly'},\n",
              "  {'crs': 'EPSG:4326',\n",
              "   'crs_transform': [0.1, 0, -180.05, 0, -0.1, 90.05],\n",
              "   'data_type': {'precision': 'double', 'type': 'PixelType'},\n",
              "   'dimensions': [3601, 1801],\n",
              "   'id': 'evaporation_from_vegetation_transpiration_hourly'},\n",
              "  {'crs': 'EPSG:4326',\n",
              "   'crs_transform': [0.1, 0, -180.05, 0, -0.1, 90.05],\n",
              "   'data_type': {'precision': 'double', 'type': 'PixelType'},\n",
              "   'dimensions': [3601, 1801],\n",
              "   'id': 'potential_evaporation_hourly'},\n",
              "  {'crs': 'EPSG:4326',\n",
              "   'crs_transform': [0.1, 0, -180.05, 0, -0.1, 90.05],\n",
              "   'data_type': {'precision': 'double', 'type': 'PixelType'},\n",
              "   'dimensions': [3601, 1801],\n",
              "   'id': 'runoff_hourly'},\n",
              "  {'crs': 'EPSG:4326',\n",
              "   'crs_transform': [0.1, 0, -180.05, 0, -0.1, 90.05],\n",
              "   'data_type': {'precision': 'double', 'type': 'PixelType'},\n",
              "   'dimensions': [3601, 1801],\n",
              "   'id': 'snow_evaporation_hourly'},\n",
              "  {'crs': 'EPSG:4326',\n",
              "   'crs_transform': [0.1, 0, -180.05, 0, -0.1, 90.05],\n",
              "   'data_type': {'precision': 'double', 'type': 'PixelType'},\n",
              "   'dimensions': [3601, 1801],\n",
              "   'id': 'sub_surface_runoff_hourly'},\n",
              "  {'crs': 'EPSG:4326',\n",
              "   'crs_transform': [0.1, 0, -180.05, 0, -0.1, 90.05],\n",
              "   'data_type': {'precision': 'double', 'type': 'PixelType'},\n",
              "   'dimensions': [3601, 1801],\n",
              "   'id': 'surface_runoff_hourly'},\n",
              "  {'crs': 'EPSG:4326',\n",
              "   'crs_transform': [0.1, 0, -180.05, 0, -0.1, 90.05],\n",
              "   'data_type': {'precision': 'double', 'type': 'PixelType'},\n",
              "   'dimensions': [3601, 1801],\n",
              "   'id': 'total_evaporation_hourly'},\n",
              "  {'crs': 'EPSG:4326',\n",
              "   'crs_transform': [0.1, 0, -180.05, 0, -0.1, 90.05],\n",
              "   'data_type': {'precision': 'double', 'type': 'PixelType'},\n",
              "   'dimensions': [3601, 1801],\n",
              "   'id': 'total_precipitation_hourly'}],\n",
              " 'id': 'ECMWF/ERA5_LAND/HOURLY/20200101T00',\n",
              " 'properties': {'hour': 0,\n",
              "  'system:asset_size': 400727784,\n",
              "  'system:footprint': {'coordinates': [[-180, -90],\n",
              "    [180, -90],\n",
              "    [180, 90],\n",
              "    [-180, 90],\n",
              "    [-180, -90]],\n",
              "   'type': 'LinearRing'},\n",
              "  'system:index': '20200101T00',\n",
              "  'system:time_end': 1577840400000,\n",
              "  'system:time_start': 1577836800000},\n",
              " 'type': 'Image',\n",
              " 'version': 1604849925143292}"
            ]
          },
          "metadata": {
            "tags": []
          },
          "execution_count": 6
        }
      ]
    },
    {
      "cell_type": "code",
      "metadata": {
        "colab": {
          "base_uri": "https://localhost:8080/"
        },
        "id": "oR2HjLGLsMDK",
        "outputId": "915aee1b-af54-4537-c520-22027c75ea45"
      },
      "source": [
        "# Print out the band names.\n",
        "sample.bandNames().getInfo()"
      ],
      "execution_count": null,
      "outputs": [
        {
          "output_type": "execute_result",
          "data": {
            "text/plain": [
              "['dewpoint_temperature_2m',\n",
              " 'temperature_2m',\n",
              " 'skin_temperature',\n",
              " 'soil_temperature_level_1',\n",
              " 'soil_temperature_level_2',\n",
              " 'soil_temperature_level_3',\n",
              " 'soil_temperature_level_4',\n",
              " 'lake_bottom_temperature',\n",
              " 'lake_ice_depth',\n",
              " 'lake_ice_temperature',\n",
              " 'lake_mix_layer_depth',\n",
              " 'lake_mix_layer_temperature',\n",
              " 'lake_shape_factor',\n",
              " 'lake_total_layer_temperature',\n",
              " 'snow_albedo',\n",
              " 'snow_cover',\n",
              " 'snow_density',\n",
              " 'snow_depth',\n",
              " 'snow_depth_water_equivalent',\n",
              " 'snowfall',\n",
              " 'snowmelt',\n",
              " 'temperature_of_snow_layer',\n",
              " 'skin_reservoir_content',\n",
              " 'volumetric_soil_water_layer_1',\n",
              " 'volumetric_soil_water_layer_2',\n",
              " 'volumetric_soil_water_layer_3',\n",
              " 'volumetric_soil_water_layer_4',\n",
              " 'forecast_albedo',\n",
              " 'surface_latent_heat_flux',\n",
              " 'surface_net_solar_radiation',\n",
              " 'surface_net_thermal_radiation',\n",
              " 'surface_sensible_heat_flux',\n",
              " 'surface_solar_radiation_downwards',\n",
              " 'surface_thermal_radiation_downwards',\n",
              " 'evaporation_from_bare_soil',\n",
              " 'evaporation_from_open_water_surfaces_excluding_oceans',\n",
              " 'evaporation_from_the_top_of_canopy',\n",
              " 'evaporation_from_vegetation_transpiration',\n",
              " 'potential_evaporation',\n",
              " 'runoff',\n",
              " 'snow_evaporation',\n",
              " 'sub_surface_runoff',\n",
              " 'surface_runoff',\n",
              " 'total_evaporation',\n",
              " 'u_component_of_wind_10m',\n",
              " 'v_component_of_wind_10m',\n",
              " 'surface_pressure',\n",
              " 'total_precipitation',\n",
              " 'leaf_area_index_high_vegetation',\n",
              " 'leaf_area_index_low_vegetation',\n",
              " 'snowfall_hourly',\n",
              " 'snowmelt_hourly',\n",
              " 'surface_latent_heat_flux_hourly',\n",
              " 'surface_net_solar_radiation_hourly',\n",
              " 'surface_net_thermal_radiation_hourly',\n",
              " 'surface_sensible_heat_flux_hourly',\n",
              " 'surface_solar_radiation_downwards_hourly',\n",
              " 'surface_thermal_radiation_downwards_hourly',\n",
              " 'evaporation_from_bare_soil_hourly',\n",
              " 'evaporation_from_open_water_surfaces_excluding_oceans_hourly',\n",
              " 'evaporation_from_the_top_of_canopy_hourly',\n",
              " 'evaporation_from_vegetation_transpiration_hourly',\n",
              " 'potential_evaporation_hourly',\n",
              " 'runoff_hourly',\n",
              " 'snow_evaporation_hourly',\n",
              " 'sub_surface_runoff_hourly',\n",
              " 'surface_runoff_hourly',\n",
              " 'total_evaporation_hourly',\n",
              " 'total_precipitation_hourly']"
            ]
          },
          "metadata": {
            "tags": []
          },
          "execution_count": 7
        }
      ]
    },
    {
      "cell_type": "markdown",
      "metadata": {
        "id": "Pv1tcEOsqTt6"
      },
      "source": [
        "## Image Output"
      ]
    },
    {
      "cell_type": "code",
      "metadata": {
        "id": "tcv9vhdT4Mto",
        "colab": {
          "base_uri": "https://localhost:8080/",
          "height": 521
        },
        "outputId": "1235fd54-0c5d-4674-9cb9-ef2a5d4f7c1c"
      },
      "source": [
        "from IPython.display import Image\n",
        "\n",
        "aoi = ee.Geometry.Rectangle(-84, -56, -31, 14)\n",
        "\n",
        "url = (\n",
        "    era5land.filterDate('2020-03-01', '2020-03-02')\n",
        "        .first()\n",
        "        .getThumbURL({\n",
        "          'bands': ['total_precipitation_hourly'],\n",
        "          'min': 0,\n",
        "          'max': 5e-3,\n",
        "          'palette': palettable.scientific.sequential.Bilbao_10.hex_colors,\n",
        "          'region':aoi,\n",
        "          'dimensions':'500',\n",
        "          'format':'jpg'\n",
        "        })\n",
        ")\n",
        "display(Image(url=url))"
      ],
      "execution_count": null,
      "outputs": [
        {
          "output_type": "display_data",
          "data": {
            "text/html": [
              "<img src=\"https://earthengine.googleapis.com/v1alpha/projects/earthengine-legacy/thumbnails/127049e14a8cfca7d269ebc5c9a650e1-7b1fff2491a4e407f12dd07de4c232f6:getPixels\"/>"
            ],
            "text/plain": [
              "<IPython.core.display.Image object>"
            ]
          },
          "metadata": {
            "tags": []
          }
        }
      ]
    },
    {
      "cell_type": "markdown",
      "metadata": {
        "id": "HFu_df19rVpB"
      },
      "source": [
        "## Video Output"
      ]
    },
    {
      "cell_type": "code",
      "metadata": {
        "colab": {
          "base_uri": "https://localhost:8080/",
          "height": 521
        },
        "id": "A4GToXC-rJqG",
        "outputId": "2d7d8d28-e97a-4ae6-a7bb-58ecd93c4e0c"
      },
      "source": [
        "url = (\n",
        "    era5land\n",
        "    .filterDate('2020', '2020-01-03')\n",
        "    .getVideoThumbURL({\n",
        "      'bands': ['total_precipitation_hourly'],\n",
        "      'min': 0,\n",
        "      'max': 5e-3,\n",
        "      'palette': palettable.scientific.sequential.Bilbao_10.hex_colors,\n",
        "      'region':aoi,\n",
        "      'dimensions':'500'\n",
        "    })\n",
        ")\n",
        "display(Image(url=url))"
      ],
      "execution_count": null,
      "outputs": [
        {
          "output_type": "display_data",
          "data": {
            "text/html": [
              "<img src=\"https://earthengine.googleapis.com/v1alpha/projects/earthengine-legacy/videoThumbnails/0e378a582faa5f7313307f8e1729c904-3be7b19bdbaa9a734d4dd9f6f3ad1f15:getPixels\"/>"
            ],
            "text/plain": [
              "<IPython.core.display.Image object>"
            ]
          },
          "metadata": {
            "tags": []
          }
        }
      ]
    },
    {
      "cell_type": "markdown",
      "metadata": {
        "id": "VIQyPLev78RL"
      },
      "source": [
        "### Specifying the projection"
      ]
    },
    {
      "cell_type": "code",
      "metadata": {
        "colab": {
          "base_uri": "https://localhost:8080/",
          "height": 499
        },
        "id": "GdeR830qzjHI",
        "outputId": "cf4ba2a4-928f-4934-c382-4e51948d46f6"
      },
      "source": [
        "aoi = ee.Geometry.Rectangle(-84, -56, -31, 14)\n",
        "\n",
        "url = (\n",
        "    era5land.filterDate('2020', '2020-01-03')\n",
        "    .getVideoThumbURL({\n",
        "      'bands': ['total_precipitation_hourly'],\n",
        "      'min': 0,\n",
        "      'max': 10e-3,\n",
        "      #'crs': 'EPSG:32621',  # WGS 84 / UTM zone 21N\n",
        "      #'crs': 'EPSG:5641',  # Brazil Mercator\n",
        "      'crs': 'EPSG:3031',  # WGS 84 / Antarctic Polar Stereographic\n",
        "      'palette': palettable.scientific.sequential.Bilbao_10.hex_colors,\n",
        "      'region':aoi,\n",
        "      'dimensions':'500'\n",
        "    })\n",
        ")\n",
        "display(Image(url=url))"
      ],
      "execution_count": null,
      "outputs": [
        {
          "output_type": "display_data",
          "data": {
            "text/html": [
              "<img src=\"https://earthengine.googleapis.com/v1alpha/projects/earthengine-legacy/videoThumbnails/74ef1b555da89dad4271388fffcfc609-5c206a12434e2b473c34b64cd33b900a:getPixels\"/>"
            ],
            "text/plain": [
              "<IPython.core.display.Image object>"
            ]
          },
          "metadata": {
            "tags": []
          }
        }
      ]
    },
    {
      "cell_type": "markdown",
      "metadata": {
        "id": "cwaTiq2Ar9Ec"
      },
      "source": [
        "## Interactive Map Output"
      ]
    },
    {
      "cell_type": "code",
      "metadata": {
        "id": "sk-1GFUGR_uF"
      },
      "source": [
        "import folium\n",
        "\n",
        "# Define a method for displaying Earth Engine image tiles to folium map.\n",
        "def add_ee_layer(self, ee_image_object, vis_params, name):\n",
        "  map_id_dict = ee.Image(ee_image_object).getMapId(vis_params)\n",
        "  folium.raster_layers.TileLayer(\n",
        "    tiles = map_id_dict['tile_fetcher'].url_format,\n",
        "    attr = 'Map Data &copy; <a href=\"https://earthengine.google.com/\">Google Earth Engine</a>',\n",
        "    name = name,\n",
        "    overlay = True,\n",
        "    control = True\n",
        "  ).add_to(self)\n",
        "\n",
        "# Add EE drawing method to folium.\n",
        "folium.Map.add_ee_layer = add_ee_layer"
      ],
      "execution_count": null,
      "outputs": []
    },
    {
      "cell_type": "code",
      "metadata": {
        "colab": {
          "base_uri": "https://localhost:8080/",
          "height": 545
        },
        "id": "BLHLPTuekJf0",
        "outputId": "8770c6ac-2523-4c51-d03e-54eba049088a"
      },
      "source": [
        "# Set visualization parameters.\n",
        "viz_params = {\n",
        "  'bands': ['total_precipitation'],\n",
        "  'min': 0,\n",
        "  'max': 5e-3,\n",
        "  'palette': palettable.matplotlib.Inferno_10.hex_colors\n",
        "}\n",
        "\n",
        "# Create a folium map object.\n",
        "my_map = folium.Map(location=[20, 0], zoom_start=3, height=500)\n",
        "\n",
        "# Add the elevation model to the map object.\n",
        "my_map.add_ee_layer(sample, viz_params, 'Total Precipitation')\n",
        "\n",
        "# Add a layer control panel to the map.\n",
        "my_map.add_child(folium.LayerControl())\n",
        "\n",
        "# Display the map.\n",
        "display(my_map)"
      ],
      "execution_count": null,
      "outputs": [
        {
          "output_type": "display_data",
          "data": {
            "text/html": [
              "<div style=\"width:100%;\"><div style=\"position:relative;width:100%;height:0;padding-bottom:60%;\"><span style=\"color:#565656\">Make this Notebook Trusted to load map: File -> Trust Notebook</span><iframe src=\"about:blank\" style=\"position:absolute;width:100%;height:100%;left:0;top:0;border:none !important;\" data-html=%3C%21DOCTYPE%20html%3E%0A%3Chead%3E%20%20%20%20%0A%20%20%20%20%3Cmeta%20http-equiv%3D%22content-type%22%20content%3D%22text/html%3B%20charset%3DUTF-8%22%20/%3E%0A%20%20%20%20%3Cscript%3EL_PREFER_CANVAS%3Dfalse%3B%20L_NO_TOUCH%3Dfalse%3B%20L_DISABLE_3D%3Dfalse%3B%3C/script%3E%0A%20%20%20%20%3Cscript%20src%3D%22https%3A//cdn.jsdelivr.net/npm/leaflet%401.4.0/dist/leaflet.js%22%3E%3C/script%3E%0A%20%20%20%20%3Cscript%20src%3D%22https%3A//code.jquery.com/jquery-1.12.4.min.js%22%3E%3C/script%3E%0A%20%20%20%20%3Cscript%20src%3D%22https%3A//maxcdn.bootstrapcdn.com/bootstrap/3.2.0/js/bootstrap.min.js%22%3E%3C/script%3E%0A%20%20%20%20%3Cscript%20src%3D%22https%3A//cdnjs.cloudflare.com/ajax/libs/Leaflet.awesome-markers/2.0.2/leaflet.awesome-markers.js%22%3E%3C/script%3E%0A%20%20%20%20%3Clink%20rel%3D%22stylesheet%22%20href%3D%22https%3A//cdn.jsdelivr.net/npm/leaflet%401.4.0/dist/leaflet.css%22/%3E%0A%20%20%20%20%3Clink%20rel%3D%22stylesheet%22%20href%3D%22https%3A//maxcdn.bootstrapcdn.com/bootstrap/3.2.0/css/bootstrap.min.css%22/%3E%0A%20%20%20%20%3Clink%20rel%3D%22stylesheet%22%20href%3D%22https%3A//maxcdn.bootstrapcdn.com/bootstrap/3.2.0/css/bootstrap-theme.min.css%22/%3E%0A%20%20%20%20%3Clink%20rel%3D%22stylesheet%22%20href%3D%22https%3A//maxcdn.bootstrapcdn.com/font-awesome/4.6.3/css/font-awesome.min.css%22/%3E%0A%20%20%20%20%3Clink%20rel%3D%22stylesheet%22%20href%3D%22https%3A//cdnjs.cloudflare.com/ajax/libs/Leaflet.awesome-markers/2.0.2/leaflet.awesome-markers.css%22/%3E%0A%20%20%20%20%3Clink%20rel%3D%22stylesheet%22%20href%3D%22https%3A//rawcdn.githack.com/python-visualization/folium/master/folium/templates/leaflet.awesome.rotate.css%22/%3E%0A%20%20%20%20%3Cstyle%3Ehtml%2C%20body%20%7Bwidth%3A%20100%25%3Bheight%3A%20100%25%3Bmargin%3A%200%3Bpadding%3A%200%3B%7D%3C/style%3E%0A%20%20%20%20%3Cstyle%3E%23map%20%7Bposition%3Aabsolute%3Btop%3A0%3Bbottom%3A0%3Bright%3A0%3Bleft%3A0%3B%7D%3C/style%3E%0A%20%20%20%20%0A%20%20%20%20%3Cmeta%20name%3D%22viewport%22%20content%3D%22width%3Ddevice-width%2C%0A%20%20%20%20%20%20%20%20initial-scale%3D1.0%2C%20maximum-scale%3D1.0%2C%20user-scalable%3Dno%22%20/%3E%0A%20%20%20%20%3Cstyle%3E%23map_be682d1d76824c4988c0594c8b7b3a97%20%7B%0A%20%20%20%20%20%20%20%20position%3A%20relative%3B%0A%20%20%20%20%20%20%20%20width%3A%20100.0%25%3B%0A%20%20%20%20%20%20%20%20height%3A%20500.0px%3B%0A%20%20%20%20%20%20%20%20left%3A%200.0%25%3B%0A%20%20%20%20%20%20%20%20top%3A%200.0%25%3B%0A%20%20%20%20%20%20%20%20%7D%0A%20%20%20%20%3C/style%3E%0A%3C/head%3E%0A%3Cbody%3E%20%20%20%20%0A%20%20%20%20%0A%20%20%20%20%3Cdiv%20class%3D%22folium-map%22%20id%3D%22map_be682d1d76824c4988c0594c8b7b3a97%22%20%3E%3C/div%3E%0A%3C/body%3E%0A%3Cscript%3E%20%20%20%20%0A%20%20%20%20%0A%20%20%20%20%0A%20%20%20%20%20%20%20%20var%20bounds%20%3D%20null%3B%0A%20%20%20%20%0A%0A%20%20%20%20var%20map_be682d1d76824c4988c0594c8b7b3a97%20%3D%20L.map%28%0A%20%20%20%20%20%20%20%20%27map_be682d1d76824c4988c0594c8b7b3a97%27%2C%20%7B%0A%20%20%20%20%20%20%20%20center%3A%20%5B20%2C%200%5D%2C%0A%20%20%20%20%20%20%20%20zoom%3A%203%2C%0A%20%20%20%20%20%20%20%20maxBounds%3A%20bounds%2C%0A%20%20%20%20%20%20%20%20layers%3A%20%5B%5D%2C%0A%20%20%20%20%20%20%20%20worldCopyJump%3A%20false%2C%0A%20%20%20%20%20%20%20%20crs%3A%20L.CRS.EPSG3857%2C%0A%20%20%20%20%20%20%20%20zoomControl%3A%20true%2C%0A%20%20%20%20%20%20%20%20%7D%29%3B%0A%0A%0A%20%20%20%20%0A%20%20%20%20var%20tile_layer_be0fb08857b64f8a907c32a4a1b2d4b1%20%3D%20L.tileLayer%28%0A%20%20%20%20%20%20%20%20%27https%3A//%7Bs%7D.tile.openstreetmap.org/%7Bz%7D/%7Bx%7D/%7By%7D.png%27%2C%0A%20%20%20%20%20%20%20%20%7B%0A%20%20%20%20%20%20%20%20%22attribution%22%3A%20null%2C%0A%20%20%20%20%20%20%20%20%22detectRetina%22%3A%20false%2C%0A%20%20%20%20%20%20%20%20%22maxNativeZoom%22%3A%2018%2C%0A%20%20%20%20%20%20%20%20%22maxZoom%22%3A%2018%2C%0A%20%20%20%20%20%20%20%20%22minZoom%22%3A%200%2C%0A%20%20%20%20%20%20%20%20%22noWrap%22%3A%20false%2C%0A%20%20%20%20%20%20%20%20%22opacity%22%3A%201%2C%0A%20%20%20%20%20%20%20%20%22subdomains%22%3A%20%22abc%22%2C%0A%20%20%20%20%20%20%20%20%22tms%22%3A%20false%0A%7D%29.addTo%28map_be682d1d76824c4988c0594c8b7b3a97%29%3B%0A%20%20%20%20var%20tile_layer_ab31e30be3924639af5981c40027a06c%20%3D%20L.tileLayer%28%0A%20%20%20%20%20%20%20%20%27https%3A//earthengine.googleapis.com/v1alpha/projects/earthengine-legacy/maps/90ccab84a9ec742d36d349ea4175baae-4da83cfac2a06c5e16032cb39bf7fcd5/tiles/%7Bz%7D/%7Bx%7D/%7By%7D%27%2C%0A%20%20%20%20%20%20%20%20%7B%0A%20%20%20%20%20%20%20%20%22attribution%22%3A%20%22Map%20Data%20%26copy%3B%20%3Ca%20href%3D%5C%22https%3A//earthengine.google.com/%5C%22%3EGoogle%20Earth%20Engine%3C/a%3E%22%2C%0A%20%20%20%20%20%20%20%20%22detectRetina%22%3A%20false%2C%0A%20%20%20%20%20%20%20%20%22maxNativeZoom%22%3A%2018%2C%0A%20%20%20%20%20%20%20%20%22maxZoom%22%3A%2018%2C%0A%20%20%20%20%20%20%20%20%22minZoom%22%3A%200%2C%0A%20%20%20%20%20%20%20%20%22noWrap%22%3A%20false%2C%0A%20%20%20%20%20%20%20%20%22opacity%22%3A%201%2C%0A%20%20%20%20%20%20%20%20%22subdomains%22%3A%20%22abc%22%2C%0A%20%20%20%20%20%20%20%20%22tms%22%3A%20false%0A%7D%29.addTo%28map_be682d1d76824c4988c0594c8b7b3a97%29%3B%0A%20%20%20%20%0A%20%20%20%20%20%20%20%20%20%20%20%20var%20layer_control_ac68c8b551db4478becc7d10bfbab52a%20%3D%20%7B%0A%20%20%20%20%20%20%20%20%20%20%20%20%20%20%20%20base_layers%20%3A%20%7B%20%22openstreetmap%22%20%3A%20tile_layer_be0fb08857b64f8a907c32a4a1b2d4b1%2C%20%7D%2C%0A%20%20%20%20%20%20%20%20%20%20%20%20%20%20%20%20overlays%20%3A%20%7B%20%22Total%20Precipitation%22%20%3A%20tile_layer_ab31e30be3924639af5981c40027a06c%2C%20%7D%0A%20%20%20%20%20%20%20%20%20%20%20%20%20%20%20%20%7D%3B%0A%20%20%20%20%20%20%20%20%20%20%20%20L.control.layers%28%0A%20%20%20%20%20%20%20%20%20%20%20%20%20%20%20%20layer_control_ac68c8b551db4478becc7d10bfbab52a.base_layers%2C%0A%20%20%20%20%20%20%20%20%20%20%20%20%20%20%20%20layer_control_ac68c8b551db4478becc7d10bfbab52a.overlays%2C%0A%20%20%20%20%20%20%20%20%20%20%20%20%20%20%20%20%7Bposition%3A%20%27topright%27%2C%0A%20%20%20%20%20%20%20%20%20%20%20%20%20%20%20%20%20collapsed%3A%20true%2C%0A%20%20%20%20%20%20%20%20%20%20%20%20%20%20%20%20%20autoZIndex%3A%20true%0A%20%20%20%20%20%20%20%20%20%20%20%20%20%20%20%20%7D%29.addTo%28map_be682d1d76824c4988c0594c8b7b3a97%29%3B%0A%20%20%20%20%20%20%20%20%20%20%20%20%0A%20%20%20%20%20%20%20%20%0A%3C/script%3E onload=\"this.contentDocument.open();this.contentDocument.write(    decodeURIComponent(this.getAttribute('data-html')));this.contentDocument.close();\" allowfullscreen webkitallowfullscreen mozallowfullscreen></iframe></div></div>"
            ],
            "text/plain": [
              "<folium.folium.Map at 0x7f43e9841940>"
            ]
          },
          "metadata": {
            "tags": []
          }
        }
      ]
    },
    {
      "cell_type": "markdown",
      "metadata": {
        "id": "ivGBtpgv6R-Q"
      },
      "source": [
        "# Where to go next..."
      ]
    },
    {
      "cell_type": "markdown",
      "metadata": {
        "id": "J0PGZ9Jl6XIx"
      },
      "source": [
        "For additional examples of time series analysis using [pandas](https://pandas.pydata.org/) and [Altair](https://altair-viz.github.io/) visualization libraries, see this notebook tutorial:\n",
        "\n",
        "https://colab.sandbox.google.com/github/google/earthengine-community/blob/master/tutorials/time-series-visualization-with-altair/index.ipynb"
      ]
    }
  ]
}