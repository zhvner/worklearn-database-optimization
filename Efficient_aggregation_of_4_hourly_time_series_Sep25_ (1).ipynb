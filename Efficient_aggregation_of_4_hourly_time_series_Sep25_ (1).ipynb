{
  "nbformat": 4,
  "nbformat_minor": 0,
  "metadata": {
    "colab": {
      "provenance": [],
      "collapsed_sections": [
        "cIHgUS03UMBL"
      ]
    },
    "kernelspec": {
      "name": "python3",
      "display_name": "Python 3"
    },
    "language_info": {
      "name": "python"
    }
  },
  "cells": [
    {
      "cell_type": "code",
      "execution_count": null,
      "metadata": {
        "id": "rvtwpIGQPALt"
      },
      "outputs": [],
      "source": [
        "PROJECT = \"era5-land-project\""
      ]
    },
    {
      "cell_type": "markdown",
      "source": [
        "# Authorization and Imports"
      ],
      "metadata": {
        "id": "y9IwJuJHjA7U"
      }
    },
    {
      "cell_type": "code",
      "source": [
        "!gcloud auth login --project {PROJECT}\n"
      ],
      "metadata": {
        "colab": {
          "base_uri": "https://localhost:8080/"
        },
        "id": "qjLcDTocPB1G",
        "outputId": "7116915b-8d94-4e04-9e0f-8c5fc60baa5e"
      },
      "execution_count": null,
      "outputs": [
        {
          "output_type": "stream",
          "name": "stdout",
          "text": [
            "Go to the following link in your browser, and complete the sign-in prompts:\n",
            "\n",
            "    https://accounts.google.com/o/oauth2/auth?response_type=code&client_id=32555940559.apps.googleusercontent.com&redirect_uri=https%3A%2F%2Fsdk.cloud.google.com%2Fauthcode.html&scope=openid+https%3A%2F%2Fwww.googleapis.com%2Fauth%2Fuserinfo.email+https%3A%2F%2Fwww.googleapis.com%2Fauth%2Fcloud-platform+https%3A%2F%2Fwww.googleapis.com%2Fauth%2Fappengine.admin+https%3A%2F%2Fwww.googleapis.com%2Fauth%2Fsqlservice.login+https%3A%2F%2Fwww.googleapis.com%2Fauth%2Fcompute+https%3A%2F%2Fwww.googleapis.com%2Fauth%2Faccounts.reauth&state=XGYCzkYhXFlg2KdLZU38xKmRi3dWrd&prompt=consent&token_usage=remote&access_type=offline&code_challenge=OgYnA4L5QdCH1ROm-Ch1XgZWu2rFySfzQvI4FmsPNc4&code_challenge_method=S256\n",
            "\n",
            "Once finished, enter the verification code provided in your browser: 4/0AQlEd8xUHbGIXacM1qQI_XGMA32bax_bzhfSsgqO69cnASPnN0Wj7tdDTPuygFB9qhQVPw\n",
            "\n",
            "You are now logged in as [szhanerz@gmail.com].\n",
            "Your current project is [era5-land-project].  You can change this setting by running:\n",
            "  $ gcloud config set project PROJECT_ID\n"
          ]
        }
      ]
    },
    {
      "cell_type": "code",
      "source": [
        "import datetime\n",
        "import ee\n",
        "import logging # to check task status when exporting images\n",
        "import math\n"
      ],
      "metadata": {
        "id": "zP9gXF6nVJzU"
      },
      "execution_count": null,
      "outputs": []
    },
    {
      "cell_type": "code",
      "source": [
        "ee.Authenticate()\n",
        "ee.Initialize(project=PROJECT)"
      ],
      "metadata": {
        "id": "MoS62UurVdxb"
      },
      "execution_count": null,
      "outputs": []
    },
    {
      "cell_type": "markdown",
      "source": [
        "Function to filter 4-hourly intervals and add day properties to each image"
      ],
      "metadata": {
        "id": "IXmn3WfDTvFZ"
      }
    },
    {
      "cell_type": "markdown",
      "source": [
        "# Efficient Aggregation of 4-Hourly Time Series into Daily Data Time Series"
      ],
      "metadata": {
        "id": "cIHgUS03UMBL"
      }
    },
    {
      "cell_type": "code",
      "source": [
        "def add_date_properties(image):\n",
        "    date = ee.Date(image.get('system:time_start'))\n",
        "    hour = date.get('hour')\n",
        "    day_of_year = date.getRelative('day', 'year')\n",
        "    return image.set('day_of_year', day_of_year).set('hour', hour)"
      ],
      "metadata": {
        "id": "QaaZ3op1VgQM"
      },
      "execution_count": null,
      "outputs": []
    },
    {
      "cell_type": "markdown",
      "source": [
        "Function to count the number of 4-hourly intervals per day"
      ],
      "metadata": {
        "id": "cF3T2U0HT0eX"
      }
    },
    {
      "cell_type": "code",
      "source": [
        "def count_4hourly_intervals(year, start_day, end_day, region):\n",
        "    start_date = ee.Date.fromYMD(year, 1, 1).advance(start_day - 1, 'day')\n",
        "    end_date = ee.Date.fromYMD(year, 1, 1).advance(end_day, 'day')\n",
        "    era_hourly = ee.ImageCollection(\"ECMWF/ERA5_LAND/HOURLY\").filterDate(start_date, end_date).filterBounds(region)\n",
        "\n",
        "    # day properties to each image and filter to 4-hour intervals\n",
        "    era_hourly = era_hourly.map(add_date_properties).filter(ee.Filter.eq('hour', 0)).merge(\n",
        "        era_hourly.map(add_date_properties).filter(ee.Filter.eq('hour', 4))).merge(\n",
        "        era_hourly.map(add_date_properties).filter(ee.Filter.eq('hour', 8))).merge(\n",
        "        era_hourly.map(add_date_properties).filter(ee.Filter.eq('hour', 12))).merge(\n",
        "        era_hourly.map(add_date_properties).filter(ee.Filter.eq('hour', 16))).merge(\n",
        "        era_hourly.map(add_date_properties).filter(ee.Filter.eq('hour', 20)))\n",
        "\n",
        "    daily_counts = era_hourly.aggregate_histogram('day_of_year')\n",
        "\n",
        "    return daily_counts"
      ],
      "metadata": {
        "id": "ocg8J8K5Ty0g"
      },
      "execution_count": null,
      "outputs": []
    },
    {
      "cell_type": "markdown",
      "source": [
        "add this into\n",
        "- intermediary output"
      ],
      "metadata": {
        "id": "cEFl0fKj5H8X"
      }
    },
    {
      "cell_type": "code",
      "source": [
        "year = 2023\n",
        "start_day = 1\n",
        "end_day = 10  # small range for demonstration purposes\n",
        "region = ee.Geometry.Point([0, 0]).buffer(10000)  # random region"
      ],
      "metadata": {
        "id": "KY5J5WsTT8aX"
      },
      "execution_count": null,
      "outputs": []
    },
    {
      "cell_type": "code",
      "source": [
        "daily_counts = count_4hourly_intervals(year, start_day, end_day, region)\n",
        "\n",
        "daily_counts_info = daily_counts.getInfo()\n",
        "print('Daily counts of 4-hourly intervals:', daily_counts_info)"
      ],
      "metadata": {
        "colab": {
          "base_uri": "https://localhost:8080/"
        },
        "id": "TEtFUN6zT-SO",
        "outputId": "ea33715b-22c7-4bbf-9379-f578674ab1a6"
      },
      "execution_count": null,
      "outputs": [
        {
          "output_type": "stream",
          "name": "stdout",
          "text": [
            "Daily counts of 4-hourly intervals: {'0': 6, '1': 6, '2': 6, '3': 6, '4': 6, '5': 6, '6': 6, '7': 6, '8': 6, '9': 6}\n"
          ]
        }
      ]
    },
    {
      "cell_type": "code",
      "source": [
        "daily_counts_values = list(daily_counts_info.values())\n",
        "print('First few values:', daily_counts_values[:5])\n",
        "print('Max value:', max(daily_counts_values))\n",
        "print('Min value:', min(daily_counts_values))\n",
        "print('Mean value:', sum(daily_counts_values) / len(daily_counts_values))"
      ],
      "metadata": {
        "colab": {
          "base_uri": "https://localhost:8080/"
        },
        "id": "LsQ5TctsUEZN",
        "outputId": "fc6c45a2-57ee-4534-fbc7-3596bced2fa6"
      },
      "execution_count": null,
      "outputs": [
        {
          "output_type": "stream",
          "name": "stdout",
          "text": [
            "First few values: [6, 6, 6, 6, 6]\n",
            "Max value: 6\n",
            "Min value: 6\n",
            "Mean value: 6.0\n"
          ]
        }
      ]
    },
    {
      "cell_type": "markdown",
      "source": [
        "# Computing Degree-Day Values from 4-Hourly Data"
      ],
      "metadata": {
        "id": "nc-awnBGUPhE"
      }
    },
    {
      "cell_type": "markdown",
      "source": [
        "1. Helps track and group temperature data into 4-hour intervals."
      ],
      "metadata": {
        "id": "0pCZELcsVzua"
      }
    },
    {
      "cell_type": "code",
      "source": [
        "def add_date_properties(image):\n",
        "    date = ee.Date(image.get('system:time_start'))\n",
        "    hour = date.get('hour')\n",
        "    day_of_year = date.getRelative('day', 'year')\n",
        "    return image.set('day_of_year', day_of_year).set('hour', hour)"
      ],
      "metadata": {
        "id": "608iiBHu8gbb"
      },
      "execution_count": null,
      "outputs": []
    },
    {
      "cell_type": "markdown",
      "source": [
        "2. Calculates degree days relative to the base temperature (e.g., -20°C)."
      ],
      "metadata": {
        "id": "kj4ayZfMV1cY"
      }
    },
    {
      "cell_type": "code",
      "source": [
        "def compute_4hourly_degree_days(image, base_temp=-20):\n",
        "    temp_band = image.select('temperature_2m').subtract(273.15)  # Convert Kelvin to Celsius\n",
        "    degree_days = temp_band.subtract(base_temp).max(0)\n",
        "    return degree_days.rename(f'degree_days_above_{base_temp}')"
      ],
      "metadata": {
        "id": "NeUibmvWUOzL"
      },
      "execution_count": null,
      "outputs": []
    },
    {
      "cell_type": "code",
      "source": [
        "def aggregate_monthly_degree_days(year, month, base_temp, region):\n",
        "    start_date = ee.Date.fromYMD(year, month, 1)\n",
        "    end_date = start_date.advance(1, 'month')\n",
        "    era_hourly = ee.ImageCollection(\"ECMWF/ERA5_LAND/HOURLY\").filterDate(start_date, end_date).filterBounds(region)\n",
        "\n",
        "    degree_days = era_hourly.map(lambda img: compute_4hourly_degree_days(img, base_temp))\n",
        "    degree_days = degree_days.map(add_date_properties)\n",
        "\n",
        "    # Sum degree days by day\n",
        "    daily_sum = degree_days.reduce(ee.Reducer.sum())\n",
        "    # Count the number of 4-hour intervals per day\n",
        "    daily_count = degree_days.reduce(ee.Reducer.count())\n",
        "    # Calculate the average degree days per day (to handle missing data)\n",
        "    daily_avg = daily_sum.divide(daily_count).rename(f'daily_avg_degree_days_above_{base_temp}')\n",
        "\n",
        "    # Sum the daily averages over the month\n",
        "    monthly_sum = daily_avg.reduce(ee.Reducer.sum()).rename(f'monthly_sum_degree_days_above_{base_temp}')\n",
        "\n",
        "    year_band = ee.Image.constant(year).rename('year').toFloat()\n",
        "    month_band = ee.Image.constant(month).rename('month').toFloat()\n",
        "\n",
        "    combined = monthly_sum.addBands(year_band).addBands(month_band)\n",
        "\n",
        "    return combined"
      ],
      "metadata": {
        "id": "cihxQl2wUUJ-"
      },
      "execution_count": null,
      "outputs": []
    },
    {
      "cell_type": "code",
      "source": [
        "def aggregate_monthly_data(year, month, band_name, operation):\n",
        "    start_date = ee.Date.fromYMD(year, month, 1)\n",
        "    end_date = start_date.advance(1, 'month')\n",
        "    era_hourly = ee.ImageCollection(\"ECMWF/ERA5_LAND/HOURLY\").filterDate(start_date, end_date).select(band_name)\n",
        "\n",
        "    if operation == 'max':\n",
        "        aggregated_data = era_hourly.max()\n",
        "    elif operation == 'min':\n",
        "        aggregated_data = era_hourly.min()\n",
        "    elif operation == 'mean':\n",
        "        aggregated_data = era_hourly.mean()\n",
        "    elif operation == 'sum':\n",
        "        aggregated_data = era_hourly.sum()\n",
        "    else:\n",
        "        raise ValueError(f\"Unsupported operation: {operation}\")\n",
        "\n",
        "    # Convert temperature from Kelvin to Celsius if the band name includes 'temperature'\n",
        "    if 'temperature' in band_name:\n",
        "        aggregated_data = aggregated_data.subtract(273.15)\n",
        "\n",
        "    return aggregated_data.set('system:time_start', start_date.millis())\n"
      ],
      "metadata": {
        "id": "UvFhMDIyUV00"
      },
      "execution_count": null,
      "outputs": []
    },
    {
      "cell_type": "code",
      "source": [
        "def generate_monthly_aggregates(years, base_temps):\n",
        "    monthly_aggregates = []\n",
        "\n",
        "    for year in years:\n",
        "        for month in range(1, 13):\n",
        "            monthly_max = aggregate_monthly_data(year, month, 'temperature_2m', 'max').rename('max_temp')\n",
        "            monthly_min = aggregate_monthly_data(year, month, 'temperature_2m', 'min').rename('min_temp')\n",
        "            monthly_mean = aggregate_monthly_data(year, month, 'temperature_2m', 'mean').rename('mean_temp')\n",
        "            monthly_precip = aggregate_monthly_data(year, month, 'total_precipitation', 'sum').rename('total_precip')\n",
        "\n",
        "            degree_days_list = []\n",
        "            for base_temp in base_temps:\n",
        "                degree_day = aggregate_monthly_degree_days(year, month, base_temp, coordinates).select(f'monthly_sum_degree_days_above_{base_temp}') # drop it to tidy up coordinates  - nothing computation\n",
        "                degree_days_list.append(degree_day)\n",
        "\n",
        "            degree_days_combined = ee.Image.cat(degree_days_list)\n",
        "\n",
        "            year_band = ee.Image.constant(year).rename('year').toFloat()\n",
        "            month_band = ee.Image.constant(month).rename('month').toFloat()\n",
        "\n",
        "            combined = monthly_max \\\n",
        "                                  .addBands(monthly_min) \\\n",
        "                                  .addBands(monthly_mean) \\\n",
        "                                  .addBands(monthly_precip) \\\n",
        "                                  .addBands(degree_days_combined) \\\n",
        "                                  .addBands(year_band) \\\n",
        "                                  .addBands(month_band)\n",
        "\n",
        "            monthly_aggregates.append(combined)\n",
        "    return ee.ImageCollection(monthly_aggregates)"
      ],
      "metadata": {
        "id": "aA8Jerx0U8vN"
      },
      "execution_count": null,
      "outputs": []
    },
    {
      "cell_type": "code",
      "source": [
        "coordinates = ee.FeatureCollection(\"projects/era5-land-project/assets/itrdb_locations_unique_with_duplicate_lat_lon_info\")\n"
      ],
      "metadata": {
        "id": "O1wcGNoIGTVK"
      },
      "execution_count": null,
      "outputs": []
    },
    {
      "cell_type": "code",
      "source": [
        "monthly_aggregates_ic = generate_monthly_aggregates([2023], list(range(-5,0)))"
      ],
      "metadata": {
        "id": "xY0ccdTB7NRz"
      },
      "execution_count": null,
      "outputs": []
    },
    {
      "cell_type": "code",
      "source": [
        "print(monthly_aggregates_ic.size().getInfo())\n"
      ],
      "metadata": {
        "colab": {
          "base_uri": "https://localhost:8080/"
        },
        "id": "8K3x6f-y7U8C",
        "outputId": "d483eb72-71a1-4469-b0f3-58d1122f4e2a"
      },
      "execution_count": null,
      "outputs": [
        {
          "output_type": "stream",
          "name": "stdout",
          "text": [
            "12\n"
          ]
        }
      ]
    },
    {
      "cell_type": "code",
      "source": [
        "print(monthly_aggregates_ic.first().bandNames().getInfo())\n",
        "# print(monthly_aggregates_ic.first().getInfo())"
      ],
      "metadata": {
        "colab": {
          "base_uri": "https://localhost:8080/"
        },
        "id": "b1v4giPn7Y1-",
        "outputId": "019dfbe0-cceb-495a-bbe6-8a13e0f5380f"
      },
      "execution_count": null,
      "outputs": [
        {
          "output_type": "stream",
          "name": "stdout",
          "text": [
            "['max_temp', 'min_temp', 'mean_temp', 'total_precip', 'monthly_sum_degree_days_above_-5', 'monthly_sum_degree_days_above_-4', 'monthly_sum_degree_days_above_-3', 'monthly_sum_degree_days_above_-2', 'monthly_sum_degree_days_above_-1', 'year', 'month']\n"
          ]
        }
      ]
    },
    {
      "cell_type": "markdown",
      "source": [
        "export piece"
      ],
      "metadata": {
        "id": "e_jaU7NuW3vm"
      }
    },
    {
      "cell_type": "code",
      "source": [
        "def zonal_stats(ic, fc, params=None):\n",
        "    _params = {\n",
        "        'reducer': ee.Reducer.mean(),  # Change this as needed (e.g., sum, median)\n",
        "        'scale': 1000,  # Adjust scale to your needs\n",
        "        'crs': None,\n",
        "        'bands': None,\n",
        "        'bandsRename': None,\n",
        "        'imgProps': None,\n",
        "        'imgPropsRename': None,\n",
        "        'datetimeName': 'datetime',\n",
        "        'datetimeFormat': 'YYYY-MM-dd HH:mm:ss'\n",
        "    }\n",
        "    if params:\n",
        "        for param in params:\n",
        "            _params[param] = params[param] or _params[param]\n",
        "\n",
        "    img_rep = ic.first()\n",
        "    non_system_img_props = ee.Feature(None).copyProperties(img_rep).propertyNames()\n",
        "    if not _params['bands']:\n",
        "        _params['bands'] = img_rep.bandNames()\n",
        "    if not _params['bandsRename']:\n",
        "        _params['bandsRename'] = _params['bands']\n",
        "    if not _params['imgProps']:\n",
        "        _params['imgProps'] = non_system_img_props\n",
        "    if not _params['imgPropsRename']:\n",
        "        _params['imgPropsRename'] = _params['imgProps']\n",
        "\n",
        "    def map_function(img):\n",
        "        img = ee.Image(img.select(_params['bands'], _params['bandsRename']))\n",
        "        img = img.set(_params['datetimeName'], img.date().format(_params['datetimeFormat']))\n",
        "        img = img.set('timestamp', img.get('system:time_start'))\n",
        "        props_from = ee.List(_params['imgProps']).cat(ee.List([_params['datetimeName'], 'timestamp']))\n",
        "        props_to = ee.List(_params['imgPropsRename']).cat(ee.List([_params['datetimeName'], 'timestamp']))\n",
        "        img_props = img.toDictionary(props_from).rename(props_from, props_to)\n",
        "        fc_sub = fc.filterBounds(img.geometry())\n",
        "        return img.reduceRegions(\n",
        "            collection=fc_sub,\n",
        "            reducer=_params['reducer'],\n",
        "            scale=_params['scale'],\n",
        "            crs=_params['crs']\n",
        "        ).map(lambda f: f.set(img_props))\n",
        "\n",
        "    results = ic.map(map_function).flatten()\n",
        "    return results"
      ],
      "metadata": {
        "id": "hAGjY1tYW423"
      },
      "execution_count": null,
      "outputs": []
    },
    {
      "cell_type": "code",
      "source": [
        "def export_data_by_years(years, base_temps, feature_collection, export_folder):\n",
        "    for year in years:\n",
        "        for month in range(1, 13):\n",
        "            monthly_aggregates_ic = generate_monthly_aggregates([year], base_temps)\n",
        "\n",
        "            # Apply zonal statistics to the monthly aggregates for this month\n",
        "            params = {'reducer': ee.Reducer.mean(), 'scale': 1000}\n",
        "            ptsERA5monthly = zonal_stats(monthly_aggregates_ic.filter(ee.Filter.calendarRange(month, month, 'month')), feature_collection, params)\n",
        "\n",
        "            # Define the export parameters\n",
        "            export_description = f\"monthly_aggregates_export_{year}_{month:02d}_degree_days\"\n",
        "            export_params = {\n",
        "                'collection': ptsERA5monthly,\n",
        "                'description': export_description,\n",
        "                'folder': export_folder,\n",
        "                'fileFormat': 'CSV'\n",
        "            }\n",
        "\n",
        "            # Start the export task\n",
        "            task = ee.batch.Export.table.toDrive(**export_params)\n",
        "            task.start()\n",
        "            print(f\"Exporting data: {export_description} to Google Drive in folder {export_folder}\")"
      ],
      "metadata": {
        "id": "xp3SMMskWrPf"
      },
      "execution_count": null,
      "outputs": []
    },
    {
      "cell_type": "code",
      "source": [
        "base_temps = list(range(-20, 36))\n",
        "years = [2023]  # Adjust the years as needed\n",
        "coordinates = ee.FeatureCollection(\"projects/era5-land-project/assets/itrdb_locations_unique_with_duplicate_lat_lon_info\")\n",
        "\n"
      ],
      "metadata": {
        "id": "HhVnGUyaVe08"
      },
      "execution_count": null,
      "outputs": []
    },
    {
      "cell_type": "code",
      "source": [
        "export_folder = \"export_era5_monthly_new\"\n",
        "export_data_by_years(years, base_temps, coordinates, export_folder)"
      ],
      "metadata": {
        "colab": {
          "base_uri": "https://localhost:8080/"
        },
        "id": "aSULjk0z9rtM",
        "outputId": "57d026a4-6923-49ea-e6bb-b1be22c13206"
      },
      "execution_count": null,
      "outputs": [
        {
          "output_type": "stream",
          "name": "stdout",
          "text": [
            "Exporting data: monthly_aggregates_export_2023_01_degree_days to Google Drive in folder export_era5_monthly_new\n",
            "Exporting data: monthly_aggregates_export_2023_02_degree_days to Google Drive in folder export_era5_monthly_new\n",
            "Exporting data: monthly_aggregates_export_2023_03_degree_days to Google Drive in folder export_era5_monthly_new\n",
            "Exporting data: monthly_aggregates_export_2023_04_degree_days to Google Drive in folder export_era5_monthly_new\n",
            "Exporting data: monthly_aggregates_export_2023_05_degree_days to Google Drive in folder export_era5_monthly_new\n",
            "Exporting data: monthly_aggregates_export_2023_06_degree_days to Google Drive in folder export_era5_monthly_new\n",
            "Exporting data: monthly_aggregates_export_2023_07_degree_days to Google Drive in folder export_era5_monthly_new\n",
            "Exporting data: monthly_aggregates_export_2023_08_degree_days to Google Drive in folder export_era5_monthly_new\n",
            "Exporting data: monthly_aggregates_export_2023_09_degree_days to Google Drive in folder export_era5_monthly_new\n",
            "Exporting data: monthly_aggregates_export_2023_10_degree_days to Google Drive in folder export_era5_monthly_new\n",
            "Exporting data: monthly_aggregates_export_2023_11_degree_days to Google Drive in folder export_era5_monthly_new\n",
            "Exporting data: monthly_aggregates_export_2023_12_degree_days to Google Drive in folder export_era5_monthly_new\n"
          ]
        }
      ]
    },
    {
      "cell_type": "code",
      "source": [],
      "metadata": {
        "id": "szz4G9Qf94tF"
      },
      "execution_count": null,
      "outputs": []
    },
    {
      "cell_type": "code",
      "source": [],
      "metadata": {
        "id": "-VkzadmJh0r9"
      },
      "execution_count": null,
      "outputs": []
    }
  ]
}