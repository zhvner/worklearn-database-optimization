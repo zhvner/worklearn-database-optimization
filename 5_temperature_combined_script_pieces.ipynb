{
  "nbformat": 4,
  "nbformat_minor": 0,
  "metadata": {
    "colab": {
      "provenance": [],
      "collapsed_sections": [
        "2T2DX8Vk4ni1",
        "rTEN8_ezG5DO",
        "2EHmvDzlG7YL"
      ]
    },
    "kernelspec": {
      "name": "python3",
      "display_name": "Python 3"
    },
    "language_info": {
      "name": "python"
    }
  },
  "cells": [
    {
      "cell_type": "code",
      "execution_count": null,
      "metadata": {
        "id": "8bEnnUh72H_8"
      },
      "outputs": [],
      "source": [
        "PROJECT = \"era5-land-project\""
      ]
    },
    {
      "cell_type": "code",
      "source": [
        "!gcloud auth login --project {PROJECT}\n"
      ],
      "metadata": {
        "colab": {
          "base_uri": "https://localhost:8080/"
        },
        "id": "lYFFWcPG3o9v",
        "outputId": "c1b2511f-6239-4339-ac96-d6ab91b3cf66"
      },
      "execution_count": null,
      "outputs": [
        {
          "output_type": "stream",
          "name": "stdout",
          "text": [
            "Go to the following link in your browser, and complete the sign-in prompts:\n",
            "\n",
            "    https://accounts.google.com/o/oauth2/auth?response_type=code&client_id=32555940559.apps.googleusercontent.com&redirect_uri=https%3A%2F%2Fsdk.cloud.google.com%2Fauthcode.html&scope=openid+https%3A%2F%2Fwww.googleapis.com%2Fauth%2Fuserinfo.email+https%3A%2F%2Fwww.googleapis.com%2Fauth%2Fcloud-platform+https%3A%2F%2Fwww.googleapis.com%2Fauth%2Fappengine.admin+https%3A%2F%2Fwww.googleapis.com%2Fauth%2Fsqlservice.login+https%3A%2F%2Fwww.googleapis.com%2Fauth%2Fcompute+https%3A%2F%2Fwww.googleapis.com%2Fauth%2Faccounts.reauth&state=NQqH3SVlss2qZuHX8n6Sa93rtxSzrY&prompt=consent&token_usage=remote&access_type=offline&code_challenge=iNV7NPTfhVMwINW2qsJI3cEEBOmLezia1yL-tX-mGhU&code_challenge_method=S256\n",
            "\n",
            "Once finished, enter the verification code provided in your browser: 4/0AcvDMrA1j8FT1heQJZvlN1TOqgjBNPRQHD0JPQ8MGXwrJTK3barxPi-zGKj5w2Q6LkTN3g\n",
            "\n",
            "You are now logged in as [szhanerz@gmail.com].\n",
            "Your current project is [era5-land-project].  You can change this setting by running:\n",
            "  $ gcloud config set project PROJECT_ID\n"
          ]
        }
      ]
    },
    {
      "cell_type": "code",
      "source": [
        "import datetime\n",
        "import ee\n",
        "import logging # to check task status when exporting images\n",
        "import math\n"
      ],
      "metadata": {
        "id": "vrr6m9qU3qZE"
      },
      "execution_count": null,
      "outputs": []
    },
    {
      "cell_type": "code",
      "source": [
        "ee.Authenticate()\n",
        "ee.Initialize(project=PROJECT)"
      ],
      "metadata": {
        "id": "6qF642vw35Rv"
      },
      "execution_count": null,
      "outputs": []
    },
    {
      "cell_type": "markdown",
      "source": [
        "# OLD: Calculate Monthly Max Temperature, Total Precipitation, and Degree Days\n",
        "monthly_aggregation.py"
      ],
      "metadata": {
        "id": "2T2DX8Vk4ni1"
      }
    },
    {
      "cell_type": "code",
      "source": [
        "\n",
        "\n",
        "# # Define functions for aggregation\n",
        "# def monthly_max_temp(year, month):\n",
        "#     start_date = ee.Date.fromYMD(year, month, 1)\n",
        "#     end_date = start_date.advance(1, 'month')\n",
        "#     era_hourly = ee.ImageCollection(\"ECMWF/ERA5_LAND/HOURLY\")\n",
        "#     monthly_data = era_hourly.filterDate(start_date, end_date).select('temperature_2m')\n",
        "#     monthly_max = monthly_data.max().set('system:time_start', start_date.millis())\n",
        "#     return monthly_max\n",
        "\n",
        "# def monthly_total_precip(year, month):\n",
        "#     start_date = ee.Date.fromYMD(year, month, 1)\n",
        "#     end_date = start_date.advance(1, 'month')\n",
        "#     era_hourly = ee.ImageCollection(\"ECMWF/ERA5_LAND/HOURLY\")\n",
        "#     monthly_data = era_hourly.filterDate(start_date, end_date).select('total_precipitation')\n",
        "#     monthly_total = monthly_data.sum().set('system:time_start', start_date.millis())\n",
        "#     return monthly_total\n",
        "\n",
        "# def degree_days(year, month, base_temp):\n",
        "#     start_date = ee.Date.fromYMD(year, month, 1)\n",
        "#     end_date = start_date.advance(1, 'month')\n",
        "#     era_hourly = ee.ImageCollection(\"ECMWF/ERA5_LAND/HOURLY\")\n",
        "#     monthly_data = era_hourly.filterDate(start_date, end_date).select('temperature_2m')\n",
        "#     degree_days = monthly_data.map(lambda img: img.subtract(base_temp).max(0)).sum().set('system:time_start', start_date.millis())\n",
        "#     return degree_days\n",
        "\n",
        "# def generate_monthly_aggregates(years, base_temp=0):\n",
        "#     monthly_aggregates = []\n",
        "#     for year in years:\n",
        "#         for month in range(1, 13):\n",
        "#             monthly_max = monthly_max_temp(year, month)\n",
        "#             monthly_precip = monthly_total_precip(year, month)\n",
        "#             degree_day = degree_days(year, month, base_temp)\n",
        "#             combined = monthly_max.addBands(monthly_precip.rename('total_precip')).addBands(degree_day.rename('degree_days_above_0'))\n",
        "#             combined = combined.set('year', year).set('month', month)\n",
        "#             monthly_aggregates.append(combined)\n",
        "#     return ee.ImageCollection(monthly_aggregates)\n",
        "\n",
        "# # Define the years for aggregation\n",
        "# years = [2022, 2023]\n",
        "\n",
        "# # Generate monthly aggregates\n",
        "# monthly_aggregates_ic = generate_monthly_aggregates(years)\n"
      ],
      "metadata": {
        "id": "t5GghPfm35gX"
      },
      "execution_count": null,
      "outputs": []
    },
    {
      "cell_type": "markdown",
      "source": [
        "# Updated: Generic Aggregate function for different types of temperature stats"
      ],
      "metadata": {
        "id": "hzci_d5iLTJ6"
      }
    },
    {
      "cell_type": "code",
      "source": [
        "def aggregate_monthly_data(year, month, band_name, operation, base_temp=0):\n",
        "    start_date = ee.Date.fromYMD(year, month, 1)\n",
        "    end_date = start_date.advance(1, 'month')\n",
        "    era_hourly = ee.ImageCollection(\"ECMWF/ERA5_LAND/HOURLY\")\n",
        "    monthly_data = era_hourly.filterDate(start_date, end_date).select(band_name)\n",
        "\n",
        "    if operation == 'max':\n",
        "        aggregated_data = monthly_data.max()\n",
        "    elif operation == 'min':\n",
        "        aggregated_data = monthly_data.min()\n",
        "    elif operation == 'mean':\n",
        "        aggregated_data = monthly_data.mean()\n",
        "    elif operation == 'sum':\n",
        "        aggregated_data = monthly_data.sum()\n",
        "    elif operation == 'degree_days':\n",
        "        aggregated_data = monthly_data.map(lambda img: img.subtract(base_temp).max(0)).sum()\n",
        "    else:\n",
        "        raise ValueError(f\"Unsupported operation: {operation}\")\n",
        "\n",
        "    # Convert temperature from Kelvin to Celsius if the band name includes 'temperature'\n",
        "    if 'temperature' in band_name:\n",
        "        aggregated_data = aggregated_data.subtract(273.15)\n",
        "\n",
        "    return aggregated_data.set('system:time_start', start_date.millis())"
      ],
      "metadata": {
        "id": "kVf4kFHdLSeA"
      },
      "execution_count": null,
      "outputs": []
    },
    {
      "cell_type": "code",
      "source": [
        "def generate_monthly_aggregates(years, base_temp=0):\n",
        "    monthly_aggregates = []\n",
        "    for year in years:\n",
        "        for month in range(1, 13):\n",
        "            monthly_max = aggregate_monthly_data(year, month, 'temperature_2m', 'max')\n",
        "            monthly_min = aggregate_monthly_data(year, month, 'temperature_2m', 'min')\n",
        "            monthly_mean = aggregate_monthly_data(year, month, 'temperature_2m', 'mean')\n",
        "            monthly_precip = aggregate_monthly_data(year, month, 'total_precipitation', 'sum')\n",
        "            degree_day = aggregate_monthly_data(year, month, 'temperature_2m', 'degree_days', base_temp)\n",
        "\n",
        "            year_band = ee.Image.constant(year).rename('year').toFloat()\n",
        "            month_band = ee.Image.constant(month).rename('month').toFloat()\n",
        "\n",
        "            combined = monthly_max.rename('max_temp') \\\n",
        "                                  .addBands(monthly_min.rename('min_temp')) \\\n",
        "                                  .addBands(monthly_mean.rename('mean_temp')) \\\n",
        "                                  .addBands(monthly_precip.rename('total_precip')) \\\n",
        "                                  .addBands(degree_day.rename('degree_days_above_0')) \\\n",
        "                                  .addBands(year_band) \\\n",
        "                                  .addBands(month_band)\n",
        "\n",
        "            monthly_aggregates.append(combined)\n",
        "    return ee.ImageCollection(monthly_aggregates)\n",
        "\n"
      ],
      "metadata": {
        "id": "rkSP2AlQ6wf1"
      },
      "execution_count": null,
      "outputs": []
    },
    {
      "cell_type": "code",
      "source": [
        "monthly_aggregates_ic = generate_monthly_aggregates([2022, 2023])\n",
        "print(monthly_aggregates_ic.size().getInfo())\n",
        "print(monthly_aggregates_ic.first().bandNames().getInfo())\n",
        "print(monthly_aggregates_ic.first().getInfo())"
      ],
      "metadata": {
        "colab": {
          "base_uri": "https://localhost:8080/"
        },
        "id": "k1qD8hkoQG5a",
        "outputId": "9a6205a9-1063-4bb8-cd39-c37efdc4983c"
      },
      "execution_count": null,
      "outputs": [
        {
          "output_type": "stream",
          "name": "stdout",
          "text": [
            "24\n",
            "['max_temp', 'min_temp', 'mean_temp', 'total_precip', 'degree_days_above_0', 'year', 'month']\n",
            "{'type': 'Image', 'bands': [{'id': 'max_temp', 'data_type': {'type': 'PixelType', 'precision': 'double'}, 'crs': 'EPSG:4326', 'crs_transform': [1, 0, 0, 0, 1, 0]}, {'id': 'min_temp', 'data_type': {'type': 'PixelType', 'precision': 'double'}, 'crs': 'EPSG:4326', 'crs_transform': [1, 0, 0, 0, 1, 0]}, {'id': 'mean_temp', 'data_type': {'type': 'PixelType', 'precision': 'double'}, 'crs': 'EPSG:4326', 'crs_transform': [1, 0, 0, 0, 1, 0]}, {'id': 'total_precip', 'data_type': {'type': 'PixelType', 'precision': 'double'}, 'crs': 'EPSG:4326', 'crs_transform': [1, 0, 0, 0, 1, 0]}, {'id': 'degree_days_above_0', 'data_type': {'type': 'PixelType', 'precision': 'double'}, 'crs': 'EPSG:4326', 'crs_transform': [1, 0, 0, 0, 1, 0]}, {'id': 'year', 'data_type': {'type': 'PixelType', 'precision': 'float'}, 'crs': 'EPSG:4326', 'crs_transform': [1, 0, 0, 0, 1, 0]}, {'id': 'month', 'data_type': {'type': 'PixelType', 'precision': 'float'}, 'crs': 'EPSG:4326', 'crs_transform': [1, 0, 0, 0, 1, 0]}], 'properties': {'system:time_start': 1640995200000, 'system:index': '0'}}\n"
          ]
        }
      ]
    },
    {
      "cell_type": "markdown",
      "source": [
        "Main Changes by July 27, 2024"
      ],
      "metadata": {
        "id": "uu5Pwzi2S9Fy"
      }
    },
    {
      "cell_type": "markdown",
      "source": [
        "- ***Year and Month as Bands***: The year and month are added as bands to each image using ee.Image.constant(year).rename('year') and ee.Image.constant(month).rename('month'). This ensures that they are included in the exported data.\n",
        "- ***Metadata Handling for Export***: The export function now uses reduceRegion with ee.Reducer.first() to extract the year and month from the image bands instead of using metadata. This approach ensures that these values are correctly extracted from the bands added to the image.\n",
        "- ***Error Handling***: The function skips the export if year or month is missing, with a clear message indicating why.\n",
        "\n",
        "\n",
        "\n",
        "\n"
      ],
      "metadata": {
        "id": "80KpE0SgQ8cP"
      }
    },
    {
      "cell_type": "markdown",
      "source": [
        "# Exporitng aggregates to GEE as ImageCollection Asset"
      ],
      "metadata": {
        "id": "rTEN8_ezG5DO"
      }
    },
    {
      "cell_type": "code",
      "source": [
        "# # Function to export each image in the collection to an asset\n",
        "# def export_to_asset(image, index, asset_id_prefix):\n",
        "#     image_id = ee.Number(index).format().getInfo()\n",
        "#     asset_id = f\"{asset_id_prefix}_{image_id}\"\n",
        "#     description = f\"Export_monthly_aggregates_{image_id}\"\n",
        "#     task = ee.batch.Export.image.toAsset(\n",
        "#         image=image,\n",
        "#         description=description,\n",
        "#         assetId=asset_id,\n",
        "#         scale=1000,\n",
        "#         region=ee.Geometry.Rectangle([-180, -90, 180, 90])\n",
        "#     )\n",
        "#     task.start()\n",
        "#     print(f\"Exporting {description} to {asset_id}\")\n",
        "\n",
        "# # Define the asset ID prefix\n",
        "# asset_id_prefix = f'projects/{PROJECT}/assets/monthly_aggregates_22_23'\n",
        "\n",
        "# # Export each image in the collection\n",
        "# image_list = monthly_aggregates_ic.toList(monthly_aggregates_ic.size())\n",
        "# for i in range(image_list.size().getInfo()):\n",
        "#     export_to_asset(ee.Image(image_list.get(i)), i, asset_id_prefix)\n"
      ],
      "metadata": {
        "id": "qmsACXKx3_sO"
      },
      "execution_count": null,
      "outputs": []
    },
    {
      "cell_type": "markdown",
      "source": [
        "# Exporting monthly aggregates to Google Drive in GEOTIFF format"
      ],
      "metadata": {
        "id": "2EHmvDzlG7YL"
      }
    },
    {
      "cell_type": "markdown",
      "source": [
        "Key Fix:\n",
        "- Point Geometry for reduceRegion: The reduceRegion function now includes a point parameter to define a specific location for reduction. This resolves the issue of working with unbounded images by specifying a point on the globe."
      ],
      "metadata": {
        "id": "zC5DgXJ4Qzrb"
      }
    },
    {
      "cell_type": "code",
      "source": [
        "# # Function to export each image in the collection to Google Drive\n",
        "# def export_to_drive(image, description_prefix, folder):\n",
        "#     # Define a point or a small region to reduce the image over\n",
        "#     point = ee.Geometry.Point([0, 0])  # Arbitrarily chosen point\n",
        "#     year = image.select('year').reduceRegion(ee.Reducer.first(), point, 1000).get('year').getInfo()\n",
        "#     month = image.select('month').reduceRegion(ee.Reducer.first(), point, 1000).get('month').getInfo()\n",
        "#     if year is None or month is None:\n",
        "#         print(f\"Skipping export for image due to missing year or month bands.\")\n",
        "#         return\n",
        "#     description = f\"{description_prefix}_{int(year)}_{int(month):02d}\"\n",
        "#     export_params = {\n",
        "#         'image': image,\n",
        "#         'description': description,\n",
        "#         'folder': folder,\n",
        "#         'scale': 1000,\n",
        "#         'region': ee.Geometry.Rectangle([-180, -90, 180, 90]),\n",
        "#         'fileFormat': 'GeoTIFF'\n",
        "#     }\n",
        "#     task = ee.batch.Export.image.toDrive(**export_params)\n",
        "#     task.start()\n",
        "#     print(f\"Exporting {description} to Google Drive\")\n",
        "\n",
        "# # Define the years for aggregation\n",
        "# years = [2022, 2023]\n",
        "\n",
        "# # Generate monthly aggregates\n",
        "# monthly_aggregates_ic = generate_monthly_aggregates(years)\n",
        "\n",
        "# # Define the export parameters\n",
        "# description_prefix = 'monthly_aggregates'\n",
        "# folder = 'export_era5_monthly_2_years_27jul'\n",
        "\n",
        "# # Export each image in the collection\n",
        "# image_list = monthly_aggregates_ic.toList(monthly_aggregates_ic.size())\n",
        "# for i in range(image_list.size().getInfo()):\n",
        "#     export_to_drive(ee.Image(image_list.get(i)), description_prefix, folder)"
      ],
      "metadata": {
        "id": "_7NbZohPPoYl"
      },
      "execution_count": null,
      "outputs": []
    },
    {
      "cell_type": "code",
      "source": [
        "# # Function to export each image in the collection to Google Drive\n",
        "# def export_to_drive(image, description_prefix, folder):\n",
        "#     year = image.get('year').getInfo()\n",
        "#     month = image.get('month').getInfo()\n",
        "#     if year is None or month is None:\n",
        "#         print(f\"Skipping export for image due to missing year or month metadata.\")\n",
        "#         return\n",
        "#     description = f\"{description_prefix}_{year}_{int(month):02d}\"\n",
        "#     export_params = {\n",
        "#         'image': image,\n",
        "#         'description': description,\n",
        "#         'folder': folder,\n",
        "#         'scale': 1000,\n",
        "#         'region': ee.Geometry.Rectangle([-180, -90, 180, 90]),\n",
        "#         'fileFormat': 'GeoTIFF'\n",
        "#     }\n",
        "#     task = ee.batch.Export.image.toDrive(**export_params)\n",
        "#     task.start()\n",
        "#     print(f\"Exporting {description} to Google Drive\")\n",
        "\n",
        "# # Define the export parameters\n",
        "# description_prefix = 'monthly_aggregates'\n",
        "# folder = 'export_era5_monthly_2years_aggregates'\n",
        "# #\n",
        "# # Export each image in the collection\n",
        "# image_list = monthly_aggregates_ic.toList(monthly_aggregates_ic.size())\n",
        "# for i in range(image_list.size().getInfo()):\n",
        "#     export_to_drive(ee.Image(image_list.get(i)), description_prefix, folder)\n"
      ],
      "metadata": {
        "id": "bFz1f5VpQA_r"
      },
      "execution_count": null,
      "outputs": []
    },
    {
      "cell_type": "markdown",
      "source": [
        "\n",
        "\n",
        "> Link to output:\n",
        "> https://drive.google.com/drive/folders/1Hr1q8DE10YvcwEFdUzyzIMLEBilLbbsa?usp=sharing\n",
        "\n"
      ],
      "metadata": {
        "id": "XMtkJnj_IeTG"
      }
    },
    {
      "cell_type": "markdown",
      "source": [
        "# Exporting in CSV"
      ],
      "metadata": {
        "id": "dgwHdlk1fPj3"
      }
    },
    {
      "cell_type": "markdown",
      "source": [
        "- used zonal_stats function for computing statistics over an image collection based on a feature collection.\n",
        "- Coordinates FeatureCollection: Replaced this with actual feature collection.\n",
        "\n",
        "- Export Parameters: The Export.table.toDrive function exports the resulting feature collection to Google Drive in CSV format."
      ],
      "metadata": {
        "id": "nmQWAeD_flb_"
      }
    },
    {
      "cell_type": "code",
      "source": [
        "coordinates = ee.FeatureCollection(\"projects/era5-land-project/assets/itrdb_locations_unique_with_duplicate_lat_lon_info\")\n"
      ],
      "metadata": {
        "id": "hhcGjdaGN1w3"
      },
      "execution_count": null,
      "outputs": []
    },
    {
      "cell_type": "code",
      "source": [
        "def zonal_stats(ic, fc, params=None):\n",
        "    _params = {\n",
        "        'reducer': ee.Reducer.mean(),\n",
        "        'scale': None,\n",
        "        'crs': None,\n",
        "        'bands': None,\n",
        "        'bandsRename': None,\n",
        "        'imgProps': None,\n",
        "        'imgPropsRename': None,\n",
        "        'datetimeName': 'datetime',\n",
        "        'datetimeFormat': 'YYYY-MM-dd HH:mm:ss'\n",
        "    }\n",
        "    if params:\n",
        "        for param in params:\n",
        "            _params[param] = params[param] or _params[param]\n",
        "\n",
        "    img_rep = ic.first()\n",
        "    non_system_img_props = ee.Feature(None).copyProperties(img_rep).propertyNames()\n",
        "    if not _params['bands']:\n",
        "        _params['bands'] = img_rep.bandNames()\n",
        "    if not _params['bandsRename']:\n",
        "        _params['bandsRename'] = _params['bands']\n",
        "    if not _params['imgProps']:\n",
        "        _params['imgProps'] = non_system_img_props\n",
        "    if not _params['imgPropsRename']:\n",
        "        _params['imgPropsRename'] = _params['imgProps']\n",
        "\n",
        "    def map_function(img):\n",
        "        img = ee.Image(img.select(_params['bands'], _params['bandsRename']))\n",
        "        img = img.set(_params['datetimeName'], img.date().format(_params['datetimeFormat']))\n",
        "        img = img.set('timestamp', img.get('system:time_start'))\n",
        "        props_from = ee.List(_params['imgProps']).cat(ee.List([_params['datetimeName'], 'timestamp']))\n",
        "        props_to = ee.List(_params['imgPropsRename']).cat(ee.List([_params['datetimeName'], 'timestamp']))\n",
        "        img_props = img.toDictionary(props_from).rename(props_from, props_to)\n",
        "        fc_sub = fc.filterBounds(img.geometry())\n",
        "        return img.reduceRegions(\n",
        "            collection=fc_sub,\n",
        "            reducer=_params['reducer'],\n",
        "            scale=_params['scale'],\n",
        "            crs=_params['crs']\n",
        "        ).map(lambda f: f.set(img_props))\n",
        "\n",
        "    results = ic.map(map_function).flatten()\n",
        "    return results\n"
      ],
      "metadata": {
        "id": "JVIPItcpN5ce"
      },
      "execution_count": null,
      "outputs": []
    },
    {
      "cell_type": "code",
      "source": [
        "# Define the years for aggregation\n",
        "years = [2022, 2023]\n",
        "\n",
        "# Generate monthly aggregates\n",
        "monthly_aggregates_ic = generate_monthly_aggregates(years)\n"
      ],
      "metadata": {
        "id": "TCNJpV-eRrcc"
      },
      "execution_count": null,
      "outputs": []
    },
    {
      "cell_type": "code",
      "source": [
        "# Define coordinates feature collection\n",
        "coordinates = ee.FeatureCollection(\"projects/era5-land-project/assets/itrdb_locations_unique_with_duplicate_lat_lon_info\")\n",
        "\n",
        "# Apply zonal statistics to the monthly aggregates\n",
        "params = {'reducer': ee.Reducer.mean(), 'scale': 1000}\n",
        "ptsERA5monthly = zonal_stats(monthly_aggregates_ic, coordinates, params)\n",
        "\n",
        "# Export to Google Drive\n",
        "export_params = {\n",
        "    'collection': ptsERA5monthly,\n",
        "    'folder': 'export_era5_monthly_new',\n",
        "    'description': \"monthly_aggregates_export_2022_2023_temp\",\n",
        "    'fileFormat': 'CSV'\n",
        "}\n",
        "\n",
        "task = ee.batch.Export.table.toDrive(**export_params)\n",
        "task.start()\n",
        "print(\"Exporting monthly aggregates to Google Drive\")"
      ],
      "metadata": {
        "colab": {
          "base_uri": "https://localhost:8080/"
        },
        "id": "OYK0IFeLfRSZ",
        "outputId": "203b055e-95ea-45e4-e867-29c3ded04082"
      },
      "execution_count": null,
      "outputs": [
        {
          "output_type": "stream",
          "name": "stdout",
          "text": [
            "Exporting monthly aggregates to Google Drive\n"
          ]
        }
      ]
    },
    {
      "cell_type": "markdown",
      "source": [
        "#### Link to Output:\n",
        "https://drive.google.com/drive/folders/1KXZrEP5CPJFNo1z09smH03CDWKFQAEh0?usp=sharing\n",
        "\n",
        "- complete\n",
        "monthly_aggregates_export_2022_2023_temp"
      ],
      "metadata": {
        "id": "VPoLrcs7w8w0"
      }
    },
    {
      "cell_type": "code",
      "source": [],
      "metadata": {
        "id": "Yx82NSQwpGZq"
      },
      "execution_count": null,
      "outputs": []
    }
  ]
}