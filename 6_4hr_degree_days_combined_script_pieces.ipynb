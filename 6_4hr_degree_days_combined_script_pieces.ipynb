{
  "nbformat": 4,
  "nbformat_minor": 0,
  "metadata": {
    "colab": {
      "provenance": [],
      "collapsed_sections": [
        "2T2DX8Vk4ni1",
        "rTEN8_ezG5DO",
        "2EHmvDzlG7YL"
      ]
    },
    "kernelspec": {
      "name": "python3",
      "display_name": "Python 3"
    },
    "language_info": {
      "name": "python"
    }
  },
  "cells": [
    {
      "cell_type": "code",
      "execution_count": null,
      "metadata": {
        "id": "8bEnnUh72H_8"
      },
      "outputs": [],
      "source": [
        "PROJECT = \"era5-land-project\""
      ]
    },
    {
      "cell_type": "code",
      "source": [
        "!gcloud auth login --project {PROJECT}\n"
      ],
      "metadata": {
        "colab": {
          "base_uri": "https://localhost:8080/"
        },
        "id": "lYFFWcPG3o9v",
        "outputId": "b9356f33-d2c9-4aec-9dba-fe0e73345f27"
      },
      "execution_count": null,
      "outputs": [
        {
          "output_type": "stream",
          "name": "stdout",
          "text": [
            "\n",
            "You are running on a Google Compute Engine virtual machine.\n",
            "It is recommended that you use service accounts for authentication.\n",
            "\n",
            "You can run:\n",
            "\n",
            "  $ gcloud config set account `ACCOUNT`\n",
            "\n",
            "to switch accounts if necessary.\n",
            "\n",
            "Your credentials may be visible to others with access to this\n",
            "virtual machine. Are you sure you want to authenticate with\n",
            "your personal account?\n",
            "\n",
            "Do you want to continue (Y/n)?  Y\n",
            "\n",
            "Go to the following link in your browser, and complete the sign-in prompts:\n",
            "\n",
            "    https://accounts.google.com/o/oauth2/auth?response_type=code&client_id=32555940559.apps.googleusercontent.com&redirect_uri=https%3A%2F%2Fsdk.cloud.google.com%2Fauthcode.html&scope=openid+https%3A%2F%2Fwww.googleapis.com%2Fauth%2Fuserinfo.email+https%3A%2F%2Fwww.googleapis.com%2Fauth%2Fcloud-platform+https%3A%2F%2Fwww.googleapis.com%2Fauth%2Fappengine.admin+https%3A%2F%2Fwww.googleapis.com%2Fauth%2Fsqlservice.login+https%3A%2F%2Fwww.googleapis.com%2Fauth%2Fcompute+https%3A%2F%2Fwww.googleapis.com%2Fauth%2Faccounts.reauth&state=aIuJ3kzQfa89qQC6KpF6baezJzUrD4&prompt=consent&token_usage=remote&access_type=offline&code_challenge=rrWB3H1SLHDTuNSCT6gH0EBlKzynCMxHc_UN9hec-BI&code_challenge_method=S256\n",
            "\n",
            "Once finished, enter the verification code provided in your browser: 4/0AcvDMrDiSO33UT1sjYOeUTVH6ctWB2kZ8d7iy2IoZXD-VIZeO24XwktwhVggLpo--kG9bw\n",
            "\n",
            "You are now logged in as [szhanerz@gmail.com].\n",
            "Your current project is [era5-land-project].  You can change this setting by running:\n",
            "  $ gcloud config set project PROJECT_ID\n"
          ]
        }
      ]
    },
    {
      "cell_type": "code",
      "source": [
        "import datetime\n",
        "import ee\n",
        "import logging # to check task status when exporting images\n",
        "import math\n"
      ],
      "metadata": {
        "id": "vrr6m9qU3qZE"
      },
      "execution_count": null,
      "outputs": []
    },
    {
      "cell_type": "code",
      "source": [
        "ee.Authenticate()\n",
        "ee.Initialize(project=PROJECT)"
      ],
      "metadata": {
        "id": "6qF642vw35Rv"
      },
      "execution_count": null,
      "outputs": []
    },
    {
      "cell_type": "markdown",
      "source": [
        "# OLD: Calculate Monthly Max Temperature, Total Precipitation, and Degree Days\n",
        "monthly_aggregation.py"
      ],
      "metadata": {
        "id": "2T2DX8Vk4ni1"
      }
    },
    {
      "cell_type": "code",
      "source": [
        "\n",
        "\n",
        "# # Define functions for aggregation\n",
        "# def monthly_max_temp(year, month):\n",
        "#     start_date = ee.Date.fromYMD(year, month, 1)\n",
        "#     end_date = start_date.advance(1, 'month')\n",
        "#     era_hourly = ee.ImageCollection(\"ECMWF/ERA5_LAND/HOURLY\")\n",
        "#     monthly_data = era_hourly.filterDate(start_date, end_date).select('temperature_2m')\n",
        "#     monthly_max = monthly_data.max().set('system:time_start', start_date.millis())\n",
        "#     return monthly_max\n",
        "\n",
        "# def monthly_total_precip(year, month):\n",
        "#     start_date = ee.Date.fromYMD(year, month, 1)\n",
        "#     end_date = start_date.advance(1, 'month')\n",
        "#     era_hourly = ee.ImageCollection(\"ECMWF/ERA5_LAND/HOURLY\")\n",
        "#     monthly_data = era_hourly.filterDate(start_date, end_date).select('total_precipitation')\n",
        "#     monthly_total = monthly_data.sum().set('system:time_start', start_date.millis())\n",
        "#     return monthly_total\n",
        "\n",
        "# def degree_days(year, month, base_temp):\n",
        "#     start_date = ee.Date.fromYMD(year, month, 1)\n",
        "#     end_date = start_date.advance(1, 'month')\n",
        "#     era_hourly = ee.ImageCollection(\"ECMWF/ERA5_LAND/HOURLY\")\n",
        "#     monthly_data = era_hourly.filterDate(start_date, end_date).select('temperature_2m')\n",
        "#     degree_days = monthly_data.map(lambda img: img.subtract(base_temp).max(0)).sum().set('system:time_start', start_date.millis())\n",
        "#     return degree_days\n",
        "\n",
        "# def generate_monthly_aggregates(years, base_temp=0):\n",
        "#     monthly_aggregates = []\n",
        "#     for year in years:\n",
        "#         for month in range(1, 13):\n",
        "#             monthly_max = monthly_max_temp(year, month)\n",
        "#             monthly_precip = monthly_total_precip(year, month)\n",
        "#             degree_day = degree_days(year, month, base_temp)\n",
        "#             combined = monthly_max.addBands(monthly_precip.rename('total_precip')).addBands(degree_day.rename('degree_days_above_0'))\n",
        "#             combined = combined.set('year', year).set('month', month)\n",
        "#             monthly_aggregates.append(combined)\n",
        "#     return ee.ImageCollection(monthly_aggregates)\n",
        "\n",
        "# # Define the years for aggregation\n",
        "# years = [2022, 2023]\n",
        "\n",
        "# # Generate monthly aggregates\n",
        "# monthly_aggregates_ic = generate_monthly_aggregates(years)\n"
      ],
      "metadata": {
        "id": "t5GghPfm35gX"
      },
      "execution_count": null,
      "outputs": []
    },
    {
      "cell_type": "markdown",
      "source": [
        "# Updated: Generic Aggregate function for different types of temperature stats"
      ],
      "metadata": {
        "id": "hzci_d5iLTJ6"
      }
    },
    {
      "cell_type": "code",
      "source": [
        "def compute_4hourly_degree_days(image, base_temp=-20):\n",
        "    temp_band = image.select('temperature_2m').subtract(273.15)  # Convert K -> C\n",
        "    degree_days = temp_band.subtract(base_temp).max(0)\n",
        "    return degree_days.rename(f'degree_days_above_{base_temp}')"
      ],
      "metadata": {
        "id": "F5KccoQJrjdx"
      },
      "execution_count": null,
      "outputs": []
    },
    {
      "cell_type": "code",
      "source": [
        "def aggregate_daily_degree_days(year, month, base_temp=-20):\n",
        "    start_date = ee.Date.fromYMD(year, month, 1)\n",
        "    end_date = start_date.advance(1, 'day') # month vs day\n",
        "    era_hourly = ee.ImageCollection(\"ECMWF/ERA5_LAND/HOURLY\").filterDate(start_date, end_date)\n",
        "\n",
        "    #\n",
        "    degree_days = era_hourly.map(lambda img: compute_4hourly_degree_days(img, base_temp))\n",
        "    # sum DD by day\n",
        "    daily_sum = degree_days.reduce(ee.Reducer.sum())\n",
        "    # count DD of 4-hour intervals per day\n",
        "    daily_count = degree_days.reduce(ee.Reducer.count())\n",
        "    # average degree days per day (to handle missing data)\n",
        "    daily_avg = daily_sum.divide(daily_count).rename(f'daily_avg_degree_days_above_{base_temp}')\n",
        "\n",
        "    return daily_avg\n"
      ],
      "metadata": {
        "id": "kVf4kFHdLSeA"
      },
      "execution_count": null,
      "outputs": []
    },
    {
      "cell_type": "markdown",
      "source": [
        "Streamline\n",
        "\n",
        "Bypass\n",
        "- degree_days = era_hourly.map(lambda img: compute_4hourly_degree_days(img, base_temp))"
      ],
      "metadata": {
        "id": "-4_9kdhSx7W6"
      }
    },
    {
      "cell_type": "code",
      "source": [
        "def aggregate_monthly_degree_days(year, month, base_temp=-20):\n",
        "    daily_degree_days = aggregate_daily_degree_days(year, month, base_temp)\n",
        "    # sum the daily averages over the month\n",
        "    monthly_sum = daily_degree_days.reduce(ee.Reducer.sum()).rename(f'degree_days_above_{base_temp}')\n",
        "\n",
        "    year_band = ee.Image.constant(year).rename('year').toFloat()\n",
        "    month_band = ee.Image.constant(month).rename('month').toFloat()\n",
        "\n",
        "    combined = monthly_sum.addBands(year_band).addBands(month_band)\n",
        "\n",
        "    return combined\n"
      ],
      "metadata": {
        "id": "rkSP2AlQ6wf1"
      },
      "execution_count": null,
      "outputs": []
    },
    {
      "cell_type": "code",
      "source": [
        "def aggregate_monthly_data(year, month, band_name, operation):\n",
        "    start_date = ee.Date.fromYMD(year, month, 1)\n",
        "    end_date = start_date.advance(1, 'month')\n",
        "    era_hourly = ee.ImageCollection(\"ECMWF/ERA5_LAND/HOURLY\")\n",
        "    monthly_data = era_hourly.filterDate(start_date, end_date).select(band_name)\n",
        "\n",
        "    if operation == 'max':\n",
        "        aggregated_data = monthly_data.max()\n",
        "    elif operation == 'min':\n",
        "        aggregated_data = monthly_data.min()\n",
        "    elif operation == 'mean':\n",
        "        aggregated_data = monthly_data.mean()\n",
        "    elif operation == 'sum':\n",
        "        aggregated_data = monthly_data.sum()\n",
        "    else:\n",
        "        raise ValueError(f\"Unsupported operation: {operation}\")\n",
        "\n",
        "    # Convert temperature from Kelvin to Celsius if the band name includes 'temperature'\n",
        "    if 'temperature' in band_name:\n",
        "        aggregated_data = aggregated_data.subtract(273.15)\n",
        "\n",
        "    return aggregated_data.set('system:time_start', start_date.millis())\n"
      ],
      "metadata": {
        "id": "Sw1QBDDRryJn"
      },
      "execution_count": null,
      "outputs": []
    },
    {
      "cell_type": "code",
      "source": [
        "def generate_monthly_aggregates(years, base_temp=-20):\n",
        "    monthly_aggregates = []\n",
        "\n",
        "    for year in years:\n",
        "        for month in range(1, 13):\n",
        "            monthly_max = aggregate_monthly_data(year, month, 'temperature_2m', 'max').rename('max_temp')\n",
        "            monthly_min = aggregate_monthly_data(year, month, 'temperature_2m', 'min').rename('min_temp')\n",
        "            monthly_mean = aggregate_monthly_data(year, month, 'temperature_2m', 'mean').rename('mean_temp')\n",
        "            monthly_precip = aggregate_monthly_data(year, month, 'total_precipitation', 'sum').rename('total_precip')\n",
        "            degree_day = aggregate_monthly_degree_days(year, month, base_temp).select(f'degree_days_above_{base_temp}')\n",
        "\n",
        "            year_band = ee.Image.constant(year).rename('year').toFloat()\n",
        "            month_band = ee.Image.constant(month).rename('month').toFloat()\n",
        "\n",
        "            combined = monthly_max \\\n",
        "                                  .addBands(monthly_min) \\\n",
        "                                  .addBands(monthly_mean) \\\n",
        "                                  .addBands(monthly_precip) \\\n",
        "                                  .addBands(degree_day) \\\n",
        "                                  .addBands(year_band) \\\n",
        "                                  .addBands(month_band)\n",
        "\n",
        "            monthly_aggregates.append(combined)\n",
        "    return ee.ImageCollection(monthly_aggregates)\n"
      ],
      "metadata": {
        "id": "5qK0mHC_r0YQ"
      },
      "execution_count": null,
      "outputs": []
    },
    {
      "cell_type": "code",
      "source": [
        "monthly_aggregates_ic = generate_monthly_aggregates([2023])\n",
        "print(monthly_aggregates_ic.size().getInfo())\n",
        "print(monthly_aggregates_ic.first().bandNames().getInfo())\n",
        "print(monthly_aggregates_ic.first().getInfo())"
      ],
      "metadata": {
        "colab": {
          "base_uri": "https://localhost:8080/",
          "height": 543
        },
        "id": "k1qD8hkoQG5a",
        "outputId": "5f2e1300-49dd-4032-ba52-6cb2d2a27486"
      },
      "execution_count": null,
      "outputs": [
        {
          "output_type": "error",
          "ename": "EEException",
          "evalue": "Image.subtract: If one image has no bands, the other must also have no bands. Got 0 and 1.",
          "traceback": [
            "\u001b[0;31m---------------------------------------------------------------------------\u001b[0m",
            "\u001b[0;31mHttpError\u001b[0m                                 Traceback (most recent call last)",
            "\u001b[0;32m/usr/local/lib/python3.10/dist-packages/ee/data.py\u001b[0m in \u001b[0;36m_execute_cloud_call\u001b[0;34m(call, num_retries)\u001b[0m\n\u001b[1;32m    402\u001b[0m   \u001b[0;32mtry\u001b[0m\u001b[0;34m:\u001b[0m\u001b[0;34m\u001b[0m\u001b[0;34m\u001b[0m\u001b[0m\n\u001b[0;32m--> 403\u001b[0;31m     \u001b[0;32mreturn\u001b[0m \u001b[0mcall\u001b[0m\u001b[0;34m.\u001b[0m\u001b[0mexecute\u001b[0m\u001b[0;34m(\u001b[0m\u001b[0mnum_retries\u001b[0m\u001b[0;34m=\u001b[0m\u001b[0mnum_retries\u001b[0m\u001b[0;34m)\u001b[0m\u001b[0;34m\u001b[0m\u001b[0;34m\u001b[0m\u001b[0m\n\u001b[0m\u001b[1;32m    404\u001b[0m   \u001b[0;32mexcept\u001b[0m \u001b[0mgoogleapiclient\u001b[0m\u001b[0;34m.\u001b[0m\u001b[0merrors\u001b[0m\u001b[0;34m.\u001b[0m\u001b[0mHttpError\u001b[0m \u001b[0;32mas\u001b[0m \u001b[0me\u001b[0m\u001b[0;34m:\u001b[0m\u001b[0;34m\u001b[0m\u001b[0;34m\u001b[0m\u001b[0m\n",
            "\u001b[0;32m/usr/local/lib/python3.10/dist-packages/googleapiclient/_helpers.py\u001b[0m in \u001b[0;36mpositional_wrapper\u001b[0;34m(*args, **kwargs)\u001b[0m\n\u001b[1;32m    129\u001b[0m                     \u001b[0mlogger\u001b[0m\u001b[0;34m.\u001b[0m\u001b[0mwarning\u001b[0m\u001b[0;34m(\u001b[0m\u001b[0mmessage\u001b[0m\u001b[0;34m)\u001b[0m\u001b[0;34m\u001b[0m\u001b[0;34m\u001b[0m\u001b[0m\n\u001b[0;32m--> 130\u001b[0;31m             \u001b[0;32mreturn\u001b[0m \u001b[0mwrapped\u001b[0m\u001b[0;34m(\u001b[0m\u001b[0;34m*\u001b[0m\u001b[0margs\u001b[0m\u001b[0;34m,\u001b[0m \u001b[0;34m**\u001b[0m\u001b[0mkwargs\u001b[0m\u001b[0;34m)\u001b[0m\u001b[0;34m\u001b[0m\u001b[0;34m\u001b[0m\u001b[0m\n\u001b[0m\u001b[1;32m    131\u001b[0m \u001b[0;34m\u001b[0m\u001b[0m\n",
            "\u001b[0;32m/usr/local/lib/python3.10/dist-packages/googleapiclient/http.py\u001b[0m in \u001b[0;36mexecute\u001b[0;34m(self, http, num_retries)\u001b[0m\n\u001b[1;32m    937\u001b[0m         \u001b[0;32mif\u001b[0m \u001b[0mresp\u001b[0m\u001b[0;34m.\u001b[0m\u001b[0mstatus\u001b[0m \u001b[0;34m>=\u001b[0m \u001b[0;36m300\u001b[0m\u001b[0;34m:\u001b[0m\u001b[0;34m\u001b[0m\u001b[0;34m\u001b[0m\u001b[0m\n\u001b[0;32m--> 938\u001b[0;31m             \u001b[0;32mraise\u001b[0m \u001b[0mHttpError\u001b[0m\u001b[0;34m(\u001b[0m\u001b[0mresp\u001b[0m\u001b[0;34m,\u001b[0m \u001b[0mcontent\u001b[0m\u001b[0;34m,\u001b[0m \u001b[0muri\u001b[0m\u001b[0;34m=\u001b[0m\u001b[0mself\u001b[0m\u001b[0;34m.\u001b[0m\u001b[0muri\u001b[0m\u001b[0;34m)\u001b[0m\u001b[0;34m\u001b[0m\u001b[0;34m\u001b[0m\u001b[0m\n\u001b[0m\u001b[1;32m    939\u001b[0m         \u001b[0;32mreturn\u001b[0m \u001b[0mself\u001b[0m\u001b[0;34m.\u001b[0m\u001b[0mpostproc\u001b[0m\u001b[0;34m(\u001b[0m\u001b[0mresp\u001b[0m\u001b[0;34m,\u001b[0m \u001b[0mcontent\u001b[0m\u001b[0;34m)\u001b[0m\u001b[0;34m\u001b[0m\u001b[0;34m\u001b[0m\u001b[0m\n",
            "\u001b[0;31mHttpError\u001b[0m: <HttpError 400 when requesting https://earthengine.googleapis.com/v1/projects/era5-land-project/value:compute?prettyPrint=false&alt=json returned \"Image.subtract: If one image has no bands, the other must also have no bands. Got 0 and 1.\". Details: \"Image.subtract: If one image has no bands, the other must also have no bands. Got 0 and 1.\">",
            "\nDuring handling of the above exception, another exception occurred:\n",
            "\u001b[0;31mEEException\u001b[0m                               Traceback (most recent call last)",
            "\u001b[0;32m<ipython-input-16-b52f00b85244>\u001b[0m in \u001b[0;36m<cell line: 2>\u001b[0;34m()\u001b[0m\n\u001b[1;32m      1\u001b[0m \u001b[0mmonthly_aggregates_ic\u001b[0m \u001b[0;34m=\u001b[0m \u001b[0mgenerate_monthly_aggregates\u001b[0m\u001b[0;34m(\u001b[0m\u001b[0;34m[\u001b[0m\u001b[0;36m2023\u001b[0m\u001b[0;34m,\u001b[0m\u001b[0;36m2024\u001b[0m\u001b[0;34m]\u001b[0m\u001b[0;34m)\u001b[0m\u001b[0;34m\u001b[0m\u001b[0;34m\u001b[0m\u001b[0m\n\u001b[0;32m----> 2\u001b[0;31m \u001b[0mprint\u001b[0m\u001b[0;34m(\u001b[0m\u001b[0mmonthly_aggregates_ic\u001b[0m\u001b[0;34m.\u001b[0m\u001b[0msize\u001b[0m\u001b[0;34m(\u001b[0m\u001b[0;34m)\u001b[0m\u001b[0;34m.\u001b[0m\u001b[0mgetInfo\u001b[0m\u001b[0;34m(\u001b[0m\u001b[0;34m)\u001b[0m\u001b[0;34m)\u001b[0m\u001b[0;34m\u001b[0m\u001b[0;34m\u001b[0m\u001b[0m\n\u001b[0m\u001b[1;32m      3\u001b[0m \u001b[0mprint\u001b[0m\u001b[0;34m(\u001b[0m\u001b[0mmonthly_aggregates_ic\u001b[0m\u001b[0;34m.\u001b[0m\u001b[0mfirst\u001b[0m\u001b[0;34m(\u001b[0m\u001b[0;34m)\u001b[0m\u001b[0;34m.\u001b[0m\u001b[0mbandNames\u001b[0m\u001b[0;34m(\u001b[0m\u001b[0;34m)\u001b[0m\u001b[0;34m.\u001b[0m\u001b[0mgetInfo\u001b[0m\u001b[0;34m(\u001b[0m\u001b[0;34m)\u001b[0m\u001b[0;34m)\u001b[0m\u001b[0;34m\u001b[0m\u001b[0;34m\u001b[0m\u001b[0m\n\u001b[1;32m      4\u001b[0m \u001b[0mprint\u001b[0m\u001b[0;34m(\u001b[0m\u001b[0mmonthly_aggregates_ic\u001b[0m\u001b[0;34m.\u001b[0m\u001b[0mfirst\u001b[0m\u001b[0;34m(\u001b[0m\u001b[0;34m)\u001b[0m\u001b[0;34m.\u001b[0m\u001b[0mgetInfo\u001b[0m\u001b[0;34m(\u001b[0m\u001b[0;34m)\u001b[0m\u001b[0;34m)\u001b[0m\u001b[0;34m\u001b[0m\u001b[0;34m\u001b[0m\u001b[0m\n",
            "\u001b[0;32m/usr/local/lib/python3.10/dist-packages/ee/computedobject.py\u001b[0m in \u001b[0;36mgetInfo\u001b[0;34m(self)\u001b[0m\n\u001b[1;32m    105\u001b[0m       \u001b[0mThe\u001b[0m \u001b[0mobject\u001b[0m \u001b[0mcan\u001b[0m \u001b[0mevaluate\u001b[0m \u001b[0mto\u001b[0m \u001b[0manything\u001b[0m\u001b[0;34m.\u001b[0m\u001b[0;34m\u001b[0m\u001b[0;34m\u001b[0m\u001b[0m\n\u001b[1;32m    106\u001b[0m     \"\"\"\n\u001b[0;32m--> 107\u001b[0;31m     \u001b[0;32mreturn\u001b[0m \u001b[0mdata\u001b[0m\u001b[0;34m.\u001b[0m\u001b[0mcomputeValue\u001b[0m\u001b[0;34m(\u001b[0m\u001b[0mself\u001b[0m\u001b[0;34m)\u001b[0m\u001b[0;34m\u001b[0m\u001b[0;34m\u001b[0m\u001b[0m\n\u001b[0m\u001b[1;32m    108\u001b[0m \u001b[0;34m\u001b[0m\u001b[0m\n\u001b[1;32m    109\u001b[0m   \u001b[0;32mdef\u001b[0m \u001b[0mencode\u001b[0m\u001b[0;34m(\u001b[0m\u001b[0mself\u001b[0m\u001b[0;34m,\u001b[0m \u001b[0mencoder\u001b[0m\u001b[0;34m:\u001b[0m \u001b[0mOptional\u001b[0m\u001b[0;34m[\u001b[0m\u001b[0mCallable\u001b[0m\u001b[0;34m[\u001b[0m\u001b[0;34m...\u001b[0m\u001b[0;34m,\u001b[0m \u001b[0mAny\u001b[0m\u001b[0;34m]\u001b[0m\u001b[0;34m]\u001b[0m\u001b[0;34m)\u001b[0m \u001b[0;34m->\u001b[0m \u001b[0mDict\u001b[0m\u001b[0;34m[\u001b[0m\u001b[0mstr\u001b[0m\u001b[0;34m,\u001b[0m \u001b[0mAny\u001b[0m\u001b[0;34m]\u001b[0m\u001b[0;34m:\u001b[0m\u001b[0;34m\u001b[0m\u001b[0;34m\u001b[0m\u001b[0m\n",
            "\u001b[0;32m/usr/local/lib/python3.10/dist-packages/ee/data.py\u001b[0m in \u001b[0;36mcomputeValue\u001b[0;34m(obj)\u001b[0m\n\u001b[1;32m   1121\u001b[0m   \u001b[0m_maybe_populate_workload_tag\u001b[0m\u001b[0;34m(\u001b[0m\u001b[0mbody\u001b[0m\u001b[0;34m)\u001b[0m\u001b[0;34m\u001b[0m\u001b[0;34m\u001b[0m\u001b[0m\n\u001b[1;32m   1122\u001b[0m \u001b[0;34m\u001b[0m\u001b[0m\n\u001b[0;32m-> 1123\u001b[0;31m   return _execute_cloud_call(\n\u001b[0m\u001b[1;32m   1124\u001b[0m       \u001b[0m_get_cloud_projects\u001b[0m\u001b[0;34m(\u001b[0m\u001b[0;34m)\u001b[0m\u001b[0;34m\u001b[0m\u001b[0;34m\u001b[0m\u001b[0m\n\u001b[1;32m   1125\u001b[0m       \u001b[0;34m.\u001b[0m\u001b[0mvalue\u001b[0m\u001b[0;34m(\u001b[0m\u001b[0;34m)\u001b[0m\u001b[0;34m\u001b[0m\u001b[0;34m\u001b[0m\u001b[0m\n",
            "\u001b[0;32m/usr/local/lib/python3.10/dist-packages/ee/data.py\u001b[0m in \u001b[0;36m_execute_cloud_call\u001b[0;34m(call, num_retries)\u001b[0m\n\u001b[1;32m    403\u001b[0m     \u001b[0;32mreturn\u001b[0m \u001b[0mcall\u001b[0m\u001b[0;34m.\u001b[0m\u001b[0mexecute\u001b[0m\u001b[0;34m(\u001b[0m\u001b[0mnum_retries\u001b[0m\u001b[0;34m=\u001b[0m\u001b[0mnum_retries\u001b[0m\u001b[0;34m)\u001b[0m\u001b[0;34m\u001b[0m\u001b[0;34m\u001b[0m\u001b[0m\n\u001b[1;32m    404\u001b[0m   \u001b[0;32mexcept\u001b[0m \u001b[0mgoogleapiclient\u001b[0m\u001b[0;34m.\u001b[0m\u001b[0merrors\u001b[0m\u001b[0;34m.\u001b[0m\u001b[0mHttpError\u001b[0m \u001b[0;32mas\u001b[0m \u001b[0me\u001b[0m\u001b[0;34m:\u001b[0m\u001b[0;34m\u001b[0m\u001b[0;34m\u001b[0m\u001b[0m\n\u001b[0;32m--> 405\u001b[0;31m     \u001b[0;32mraise\u001b[0m \u001b[0m_translate_cloud_exception\u001b[0m\u001b[0;34m(\u001b[0m\u001b[0me\u001b[0m\u001b[0;34m)\u001b[0m  \u001b[0;31m# pylint: disable=raise-missing-from\u001b[0m\u001b[0;34m\u001b[0m\u001b[0;34m\u001b[0m\u001b[0m\n\u001b[0m\u001b[1;32m    406\u001b[0m \u001b[0;34m\u001b[0m\u001b[0m\n\u001b[1;32m    407\u001b[0m \u001b[0;34m\u001b[0m\u001b[0m\n",
            "\u001b[0;31mEEException\u001b[0m: Image.subtract: If one image has no bands, the other must also have no bands. Got 0 and 1."
          ]
        }
      ]
    },
    {
      "cell_type": "markdown",
      "source": [
        "Main Changes by July 27, 2024"
      ],
      "metadata": {
        "id": "uu5Pwzi2S9Fy"
      }
    },
    {
      "cell_type": "markdown",
      "source": [
        "- ***Year and Month as Bands***: The year and month are added as bands to each image using ee.Image.constant(year).rename('year') and ee.Image.constant(month).rename('month'). This ensures that they are included in the exported data.\n",
        "- ***Metadata Handling for Export***: The export function now uses reduceRegion with ee.Reducer.first() to extract the year and month from the image bands instead of using metadata. This approach ensures that these values are correctly extracted from the bands added to the image.\n",
        "- ***Error Handling***: The function skips the export if year or month is missing, with a clear message indicating why.\n",
        "\n",
        "\n",
        "\n",
        "\n"
      ],
      "metadata": {
        "id": "80KpE0SgQ8cP"
      }
    },
    {
      "cell_type": "markdown",
      "source": [
        "# Exporitng aggregates to GEE as ImageCollection Asset"
      ],
      "metadata": {
        "id": "rTEN8_ezG5DO"
      }
    },
    {
      "cell_type": "code",
      "source": [
        "# # Function to export each image in the collection to an asset\n",
        "# def export_to_asset(image, index, asset_id_prefix):\n",
        "#     image_id = ee.Number(index).format().getInfo()\n",
        "#     asset_id = f\"{asset_id_prefix}_{image_id}\"\n",
        "#     description = f\"Export_monthly_aggregates_{image_id}\"\n",
        "#     task = ee.batch.Export.image.toAsset(\n",
        "#         image=image,\n",
        "#         description=description,\n",
        "#         assetId=asset_id,\n",
        "#         scale=1000,\n",
        "#         region=ee.Geometry.Rectangle([-180, -90, 180, 90])\n",
        "#     )\n",
        "#     task.start()\n",
        "#     print(f\"Exporting {description} to {asset_id}\")\n",
        "\n",
        "# # Define the asset ID prefix\n",
        "# asset_id_prefix = f'projects/{PROJECT}/assets/monthly_aggregates_22_23'\n",
        "\n",
        "# # Export each image in the collection\n",
        "# image_list = monthly_aggregates_ic.toList(monthly_aggregates_ic.size())\n",
        "# for i in range(image_list.size().getInfo()):\n",
        "#     export_to_asset(ee.Image(image_list.get(i)), i, asset_id_prefix)\n"
      ],
      "metadata": {
        "id": "qmsACXKx3_sO"
      },
      "execution_count": null,
      "outputs": []
    },
    {
      "cell_type": "markdown",
      "source": [
        "# Exporting monthly aggregates to Google Drive in GEOTIFF format"
      ],
      "metadata": {
        "id": "2EHmvDzlG7YL"
      }
    },
    {
      "cell_type": "markdown",
      "source": [
        "Key Fix:\n",
        "- Point Geometry for reduceRegion: The reduceRegion function now includes a point parameter to define a specific location for reduction. This resolves the issue of working with unbounded images by specifying a point on the globe."
      ],
      "metadata": {
        "id": "zC5DgXJ4Qzrb"
      }
    },
    {
      "cell_type": "code",
      "source": [
        "# # Function to export each image in the collection to Google Drive\n",
        "# def export_to_drive(image, description_prefix, folder):\n",
        "#     # Define a point or a small region to reduce the image over\n",
        "#     point = ee.Geometry.Point([0, 0])  # Arbitrarily chosen point\n",
        "#     year = image.select('year').reduceRegion(ee.Reducer.first(), point, 1000).get('year').getInfo()\n",
        "#     month = image.select('month').reduceRegion(ee.Reducer.first(), point, 1000).get('month').getInfo()\n",
        "#     if year is None or month is None:\n",
        "#         print(f\"Skipping export for image due to missing year or month bands.\")\n",
        "#         return\n",
        "#     description = f\"{description_prefix}_{int(year)}_{int(month):02d}\"\n",
        "#     export_params = {\n",
        "#         'image': image,\n",
        "#         'description': description,\n",
        "#         'folder': folder,\n",
        "#         'scale': 1000,\n",
        "#         'region': ee.Geometry.Rectangle([-180, -90, 180, 90]),\n",
        "#         'fileFormat': 'GeoTIFF'\n",
        "#     }\n",
        "#     task = ee.batch.Export.image.toDrive(**export_params)\n",
        "#     task.start()\n",
        "#     print(f\"Exporting {description} to Google Drive\")\n",
        "\n",
        "# # Define the years for aggregation\n",
        "# years = [2022, 2023]\n",
        "\n",
        "# # Generate monthly aggregates\n",
        "# monthly_aggregates_ic = generate_monthly_aggregates(years)\n",
        "\n",
        "# # Define the export parameters\n",
        "# description_prefix = 'monthly_aggregates'\n",
        "# folder = 'export_era5_monthly_2_years_27jul'\n",
        "\n",
        "# # Export each image in the collection\n",
        "# image_list = monthly_aggregates_ic.toList(monthly_aggregates_ic.size())\n",
        "# for i in range(image_list.size().getInfo()):\n",
        "#     export_to_drive(ee.Image(image_list.get(i)), description_prefix, folder)"
      ],
      "metadata": {
        "id": "_7NbZohPPoYl"
      },
      "execution_count": null,
      "outputs": []
    },
    {
      "cell_type": "code",
      "source": [
        "# # Function to export each image in the collection to Google Drive\n",
        "# def export_to_drive(image, description_prefix, folder):\n",
        "#     year = image.get('year').getInfo()\n",
        "#     month = image.get('month').getInfo()\n",
        "#     if year is None or month is None:\n",
        "#         print(f\"Skipping export for image due to missing year or month metadata.\")\n",
        "#         return\n",
        "#     description = f\"{description_prefix}_{year}_{int(month):02d}\"\n",
        "#     export_params = {\n",
        "#         'image': image,\n",
        "#         'description': description,\n",
        "#         'folder': folder,\n",
        "#         'scale': 1000,\n",
        "#         'region': ee.Geometry.Rectangle([-180, -90, 180, 90]),\n",
        "#         'fileFormat': 'GeoTIFF'\n",
        "#     }\n",
        "#     task = ee.batch.Export.image.toDrive(**export_params)\n",
        "#     task.start()\n",
        "#     print(f\"Exporting {description} to Google Drive\")\n",
        "\n",
        "# # Define the export parameters\n",
        "# description_prefix = 'monthly_aggregates'\n",
        "# folder = 'export_era5_monthly_2years_aggregates'\n",
        "# #\n",
        "# # Export each image in the collection\n",
        "# image_list = monthly_aggregates_ic.toList(monthly_aggregates_ic.size())\n",
        "# for i in range(image_list.size().getInfo()):\n",
        "#     export_to_drive(ee.Image(image_list.get(i)), description_prefix, folder)\n"
      ],
      "metadata": {
        "id": "bFz1f5VpQA_r"
      },
      "execution_count": null,
      "outputs": []
    },
    {
      "cell_type": "markdown",
      "source": [
        "\n",
        "\n",
        "> Link to output:\n",
        "> https://drive.google.com/drive/folders/1Hr1q8DE10YvcwEFdUzyzIMLEBilLbbsa?usp=sharing\n",
        "\n"
      ],
      "metadata": {
        "id": "XMtkJnj_IeTG"
      }
    },
    {
      "cell_type": "markdown",
      "source": [
        "# Exporting in CSV"
      ],
      "metadata": {
        "id": "dgwHdlk1fPj3"
      }
    },
    {
      "cell_type": "markdown",
      "source": [
        "- used zonal_stats function for computing statistics over an image collection based on a feature collection.\n",
        "- Coordinates FeatureCollection: Replaced this with actual feature collection.\n",
        "\n",
        "- Export Parameters: The Export.table.toDrive function exports the resulting feature collection to Google Drive in CSV format."
      ],
      "metadata": {
        "id": "nmQWAeD_flb_"
      }
    },
    {
      "cell_type": "code",
      "source": [
        "coordinates = ee.FeatureCollection(\"projects/era5-land-project/assets/itrdb_locations_unique_with_duplicate_lat_lon_info\")\n"
      ],
      "metadata": {
        "id": "hhcGjdaGN1w3"
      },
      "execution_count": null,
      "outputs": []
    },
    {
      "cell_type": "code",
      "source": [
        "def zonal_stats(ic, fc, params=None):\n",
        "    _params = {\n",
        "        'reducer': ee.Reducer.mean(),\n",
        "        'scale': None,\n",
        "        'crs': None,\n",
        "        'bands': None,\n",
        "        'bandsRename': None,\n",
        "        'imgProps': None,\n",
        "        'imgPropsRename': None,\n",
        "        'datetimeName': 'datetime',\n",
        "        'datetimeFormat': 'YYYY-MM-dd HH:mm:ss'\n",
        "    }\n",
        "    if params:\n",
        "        for param in params:\n",
        "            _params[param] = params[param] or _params[param]\n",
        "\n",
        "    img_rep = ic.first()\n",
        "    non_system_img_props = ee.Feature(None).copyProperties(img_rep).propertyNames()\n",
        "    if not _params['bands']:\n",
        "        _params['bands'] = img_rep.bandNames()\n",
        "    if not _params['bandsRename']:\n",
        "        _params['bandsRename'] = _params['bands']\n",
        "    if not _params['imgProps']:\n",
        "        _params['imgProps'] = non_system_img_props\n",
        "    if not _params['imgPropsRename']:\n",
        "        _params['imgPropsRename'] = _params['imgProps']\n",
        "\n",
        "    def map_function(img):\n",
        "        img = ee.Image(img.select(_params['bands'], _params['bandsRename']))\n",
        "        img = img.set(_params['datetimeName'], img.date().format(_params['datetimeFormat']))\n",
        "        img = img.set('timestamp', img.get('system:time_start'))\n",
        "        props_from = ee.List(_params['imgProps']).cat(ee.List([_params['datetimeName'], 'timestamp']))\n",
        "        props_to = ee.List(_params['imgPropsRename']).cat(ee.List([_params['datetimeName'], 'timestamp']))\n",
        "        img_props = img.toDictionary(props_from).rename(props_from, props_to)\n",
        "        fc_sub = fc.filterBounds(img.geometry())\n",
        "        return img.reduceRegions(\n",
        "            collection=fc_sub,\n",
        "            reducer=_params['reducer'],\n",
        "            scale=_params['scale'],\n",
        "            crs=_params['crs']\n",
        "        ).map(lambda f: f.set(img_props))\n",
        "\n",
        "    results = ic.map(map_function).flatten()\n",
        "    return results\n",
        "\n"
      ],
      "metadata": {
        "id": "JVIPItcpN5ce"
      },
      "execution_count": null,
      "outputs": []
    },
    {
      "cell_type": "code",
      "source": [
        "\n",
        "# Apply zonal statistics to the monthly aggregates\n",
        "params = {'reducer': ee.Reducer.mean(), 'scale': 1000}\n",
        "ptsERA5monthly = zonal_stats(monthly_aggregates_ic, coordinates, params)\n",
        "\n",
        "# Export to Google Drive\n",
        "export_params = {\n",
        "    'collection': ptsERA5monthly,\n",
        "    'folder': 'export_era5_monthly_new',\n",
        "    'description': \"monthly_aggregates_export_2023_degree_days_-20_new\",\n",
        "    'fileFormat': 'CSV'\n",
        "}\n",
        "\n",
        "task = ee.batch.Export.table.toDrive(**export_params)\n",
        "task.start()\n",
        "print(\"Exporting monthly aggregates to Google Drive\")\n"
      ],
      "metadata": {
        "colab": {
          "base_uri": "https://localhost:8080/"
        },
        "id": "acaelsbqr_Jr",
        "outputId": "13ae7a46-e856-4a0b-a01f-22b26203d0f3"
      },
      "execution_count": null,
      "outputs": [
        {
          "output_type": "stream",
          "name": "stdout",
          "text": [
            "Exporting monthly aggregates to Google Drive\n"
          ]
        }
      ]
    },
    {
      "cell_type": "markdown",
      "source": [
        "#### Link to Output:\n",
        "https://drive.google.com/drive/folders/1KXZrEP5CPJFNo1z09smH03CDWKFQAEh0?usp=sharing\n",
        "\n",
        "- complete"
      ],
      "metadata": {
        "id": "VPoLrcs7w8w0"
      }
    },
    {
      "cell_type": "markdown",
      "source": [
        "monthly_aggregates_export_2023_degree_days_-20.csv"
      ],
      "metadata": {
        "id": "wm_mG4nwCySk"
      }
    },
    {
      "cell_type": "code",
      "source": [],
      "metadata": {
        "id": "Yx82NSQwpGZq"
      },
      "execution_count": null,
      "outputs": []
    }
  ]
}